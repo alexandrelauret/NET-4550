{
 "cells": [
  {
   "cell_type": "markdown",
   "id": "11ee6013",
   "metadata": {},
   "source": [
    "\n",
    "# 🔍 Amélioration d'un pipeline de classification supervisée\n",
    "\n",
    "Ce notebook applique une série d'améliorations sur un pipeline de classification en machine learning en suivant les axes suivants :\n",
    "- Feature engineering\n",
    "- Validation croisée\n",
    "- Comparaison de modèles\n",
    "- Optimisation des hyperparamètres\n",
    "- Évaluation approfondie\n"
   ]
  },
  {
   "cell_type": "code",
   "execution_count": null,
   "id": "5dfdf819",
   "metadata": {},
   "outputs": [],
   "source": [
    "\n",
    "import pandas as pd\n",
    "import numpy as np\n",
    "import matplotlib.pyplot as plt\n",
    "import seaborn as sns\n",
    "\n",
    "from sklearn.model_selection import train_test_split, StratifiedKFold, cross_val_score, GridSearchCV\n",
    "from sklearn.metrics import classification_report, confusion_matrix, ConfusionMatrixDisplay, f1_score\n",
    "from sklearn.preprocessing import StandardScaler\n",
    "\n",
    "from sklearn.ensemble import RandomForestClassifier\n",
    "from sklearn.linear_model import LogisticRegression\n",
    "from sklearn.neighbors import KNeighborsClassifier\n",
    "from sklearn.svm import SVC\n",
    "\n",
    "from xgboost import XGBClassifier\n",
    "import lightgbm as lgb\n",
    "\n",
    "import warnings\n",
    "warnings.filterwarnings('ignore')\n"
   ]
  },
  {
   "cell_type": "code",
   "execution_count": null,
   "id": "137ce162",
   "metadata": {},
   "outputs": [],
   "source": [
    "\n",
    "# Chargement des données prétraitées\n",
    "Xtrain = pd.read_csv('../../data/data_preprocessed/data_resampled_Xtrain.csv')\n",
    "ytrain = pd.read_csv('../../data/data_preprocessed/data_resampled_ytrain.csv')\n",
    "Xtest = pd.read_csv('../../data/data_preprocessed/data_resampled_Xtest.csv')\n",
    "ytest = pd.read_csv('../../data/data_preprocessed/data_resampled_ytest.csv')\n",
    "\n",
    "# Conversion éventuelle des y en Series\n",
    "if isinstance(ytrain, pd.DataFrame):\n",
    "    ytrain = ytrain.iloc[:, 0]\n",
    "if isinstance(ytest, pd.DataFrame):\n",
    "    ytest = ytest.iloc[:, 0]\n"
   ]
  },
  {
   "cell_type": "code",
   "execution_count": null,
   "id": "f7304555",
   "metadata": {},
   "outputs": [],
   "source": [
    "\n",
    "rf = RandomForestClassifier(n_estimators=100, random_state=42)\n",
    "rf.fit(Xtrain, ytrain)\n",
    "importances = pd.Series(rf.feature_importances_, index=Xtrain.columns)\n",
    "importances.sort_values(ascending=False).plot(kind='bar', figsize=(12,5), title=\"Feature Importances\")\n",
    "plt.tight_layout()\n",
    "plt.show()\n"
   ]
  },
  {
   "cell_type": "code",
   "execution_count": null,
   "id": "ebf0d884",
   "metadata": {},
   "outputs": [],
   "source": [
    "\n",
    "scaler = StandardScaler()\n",
    "Xtrain_scaled = scaler.fit_transform(Xtrain)\n",
    "Xtest_scaled = scaler.transform(Xtest)\n"
   ]
  },
  {
   "cell_type": "code",
   "execution_count": null,
   "id": "685c373d",
   "metadata": {},
   "outputs": [],
   "source": [
    "\n",
    "models = {\n",
    "    'Random Forest': RandomForestClassifier(n_estimators=100, random_state=42, n_jobs=-1),\n",
    "    'Logistic Regression': LogisticRegression(max_iter=1000),\n",
    "    'KNN': KNeighborsClassifier(),\n",
    "    'SVM': SVC(),\n",
    "    'XGBoost': XGBClassifier(use_label_encoder=False, eval_metric='mlogloss', random_state=42),\n",
    "    'LightGBM': lgb.LGBMClassifier()\n",
    "}\n",
    "\n",
    "cv = StratifiedKFold(n_splits=5, shuffle=True, random_state=42)\n",
    "\n",
    "results = {}\n",
    "for name, model in models.items():\n",
    "    scores = cross_val_score(model, Xtrain_scaled, ytrain, cv=cv, scoring='f1_weighted', n_jobs=-1)\n",
    "    results[name] = scores\n",
    "    print(f\"{name}: F1 score moyen = {scores.mean():.4f} (+/- {scores.std():.4f})\")\n"
   ]
  },
  {
   "cell_type": "code",
   "execution_count": null,
   "id": "97c6f428",
   "metadata": {},
   "outputs": [],
   "source": [
    "\n",
    "params = {\n",
    "    'max_depth': [3, 6],\n",
    "    'learning_rate': [0.01, 0.1],\n",
    "    'n_estimators': [100, 300],\n",
    "    'subsample': [0.8, 1.0]\n",
    "}\n",
    "\n",
    "grid = GridSearchCV(XGBClassifier(use_label_encoder=False, eval_metric='mlogloss', random_state=42),\n",
    "                    param_grid=params, cv=cv, scoring='f1_weighted', n_jobs=-1, verbose=1)\n",
    "\n",
    "grid.fit(Xtrain_scaled, ytrain)\n",
    "print(\"Meilleurs paramètres XGBoost :\", grid.best_params_)\n",
    "best_model = grid.best_estimator_\n"
   ]
  },
  {
   "cell_type": "code",
   "execution_count": null,
   "id": "98c45776",
   "metadata": {},
   "outputs": [],
   "source": [
    "\n",
    "y_pred = best_model.predict(Xtest_scaled)\n",
    "print(classification_report(ytest, y_pred))\n",
    "cm = confusion_matrix(ytest, y_pred, normalize='true')\n",
    "disp = ConfusionMatrixDisplay(confusion_matrix=cm)\n",
    "disp.plot(cmap='Blues', values_format=\".2%\")\n",
    "plt.title(\"Matrice de confusion normalisée - Meilleur modèle XGBoost\")\n",
    "plt.show()\n"
   ]
  }
 ],
 "metadata": {},
 "nbformat": 4,
 "nbformat_minor": 5
}
