{
 "cells": [
  {
   "cell_type": "markdown",
   "id": "05c1a859",
   "metadata": {},
   "source": [
    "\n",
    "# 🚀 Améliorations avancées du pipeline de classification\n",
    "\n",
    "Ce notebook applique des stratégies avancées pour :\n",
    "- Optimiser Random Forest\n",
    "- Interpréter le modèle avec SHAP\n",
    "- Réduire la dimension\n",
    "- Combiner plusieurs modèles (stacking)\n",
    "- Analyser les erreurs de classification\n"
   ]
  },
  {
   "cell_type": "code",
   "execution_count": null,
   "id": "b7807867",
   "metadata": {},
   "outputs": [],
   "source": [
    "\n",
    "import pandas as pd\n",
    "import numpy as np\n",
    "import matplotlib.pyplot as plt\n",
    "import seaborn as sns\n",
    "\n",
    "from sklearn.model_selection import train_test_split, StratifiedKFold, GridSearchCV, cross_val_predict\n",
    "from sklearn.metrics import classification_report, confusion_matrix, ConfusionMatrixDisplay\n",
    "from sklearn.preprocessing import StandardScaler\n",
    "from sklearn.feature_selection import SelectFromModel\n",
    "from sklearn.decomposition import PCA\n",
    "\n",
    "from sklearn.ensemble import RandomForestClassifier, StackingClassifier\n",
    "from sklearn.linear_model import LogisticRegression\n",
    "from sklearn.neighbors import KNeighborsClassifier\n",
    "\n",
    "from xgboost import XGBClassifier\n",
    "import shap\n",
    "import joblib\n",
    "import warnings\n",
    "warnings.filterwarnings('ignore')\n"
   ]
  },
  {
   "cell_type": "code",
   "execution_count": null,
   "id": "dab3fd0e",
   "metadata": {},
   "outputs": [],
   "source": [
    "\n",
    "Xtrain = pd.read_csv('../data/data_preprocessed/data_resampled_Xtrain.csv')\n",
    "ytrain = pd.read_csv('../data/data_preprocessed/data_resampled_ytrain.csv')\n",
    "Xtest = pd.read_csv('../data/data_preprocessed/data_resampled_Xtest.csv')\n",
    "ytest = pd.read_csv('../data/data_preprocessed/data_resampled_ytest.csv')\n",
    "\n",
    "if isinstance(ytrain, pd.DataFrame):\n",
    "    ytrain = ytrain.iloc[:, 0]\n",
    "if isinstance(ytest, pd.DataFrame):\n",
    "    ytest = ytest.iloc[:, 0]\n",
    "\n",
    "scaler = StandardScaler()\n",
    "Xtrain_scaled = scaler.fit_transform(Xtrain)\n",
    "Xtest_scaled = scaler.transform(Xtest)\n"
   ]
  },
  {
   "cell_type": "code",
   "execution_count": null,
   "id": "384c7e74",
   "metadata": {},
   "outputs": [],
   "source": [
    "\n",
    "param_grid = {\n",
    "    'n_estimators': [200, 500],\n",
    "    'max_depth': [20, 40, None],\n",
    "    'min_samples_split': [2, 10],\n",
    "    'max_features': ['sqrt', 'log2']\n",
    "}\n",
    "\n",
    "rf = RandomForestClassifier(random_state=42, n_jobs=-1)\n",
    "cv = StratifiedKFold(n_splits=3, shuffle=True, random_state=42)\n",
    "grid_rf = GridSearchCV(rf, param_grid=param_grid, cv=cv, scoring='f1_weighted', n_jobs=-1, verbose=1)\n",
    "\n",
    "grid_rf.fit(Xtrain_scaled, ytrain)\n",
    "print(\"✅ Meilleurs paramètres Random Forest :\", grid_rf.best_params_)\n",
    "best_rf = grid_rf.best_estimator_\n"
   ]
  },
  {
   "cell_type": "code",
   "execution_count": null,
   "id": "4e039c04",
   "metadata": {},
   "outputs": [],
   "source": [
    "\n",
    "explainer = shap.TreeExplainer(best_rf)\n",
    "shap_values = explainer.shap_values(Xtrain_scaled)\n",
    "shap.summary_plot(shap_values, Xtrain_scaled, feature_names=Xtrain.columns.tolist())\n"
   ]
  },
  {
   "cell_type": "code",
   "execution_count": null,
   "id": "99fa6602",
   "metadata": {},
   "outputs": [],
   "source": [
    "\n",
    "selector = SelectFromModel(best_rf, threshold='median')\n",
    "Xtrain_reduced = selector.fit_transform(Xtrain_scaled, ytrain)\n",
    "Xtest_reduced = selector.transform(Xtest_scaled)\n",
    "print(\"✅ Nombre de variables après réduction :\", Xtrain_reduced.shape[1])\n"
   ]
  },
  {
   "cell_type": "code",
   "execution_count": null,
   "id": "133d83e9",
   "metadata": {},
   "outputs": [],
   "source": [
    "\n",
    "pca = PCA(n_components=2)\n",
    "X_vis = pca.fit_transform(Xtrain_scaled)\n",
    "plt.figure(figsize=(8, 6))\n",
    "plt.scatter(X_vis[:, 0], X_vis[:, 1], c=ytrain, cmap='viridis', s=1)\n",
    "plt.title(\"Projection PCA (2D)\")\n",
    "plt.xlabel(\"PC1\")\n",
    "plt.ylabel(\"PC2\")\n",
    "plt.colorbar(label=\"Classe\")\n",
    "plt.show()\n"
   ]
  },
  {
   "cell_type": "code",
   "execution_count": null,
   "id": "e2fadf79",
   "metadata": {},
   "outputs": [],
   "source": [
    "\n",
    "estimators = [\n",
    "    ('rf', RandomForestClassifier(n_estimators=100, random_state=42, n_jobs=-1)),\n",
    "    ('knn', KNeighborsClassifier(n_neighbors=5))\n",
    "]\n",
    "stack_model = StackingClassifier(estimators=estimators, final_estimator=LogisticRegression(), n_jobs=-1)\n",
    "stack_model.fit(Xtrain_reduced, ytrain)\n",
    "y_pred_stack = stack_model.predict(Xtest_reduced)\n",
    "print(classification_report(ytest, y_pred_stack))\n"
   ]
  },
  {
   "cell_type": "code",
   "execution_count": null,
   "id": "9f0593f0",
   "metadata": {},
   "outputs": [],
   "source": [
    "\n",
    "cm = confusion_matrix(ytest, y_pred_stack, normalize='true')\n",
    "disp = ConfusionMatrixDisplay(confusion_matrix=cm)\n",
    "disp.plot(cmap='Oranges', values_format='.2%')\n",
    "plt.title(\"Matrice de confusion - Modèle empilé (Stacking)\")\n",
    "plt.show()\n"
   ]
  },
  {
   "cell_type": "code",
   "execution_count": null,
   "id": "d8a6d821",
   "metadata": {},
   "outputs": [],
   "source": [
    "\n",
    "joblib.dump(stack_model, \"stacked_model.joblib\")\n",
    "print(\"✅ Modèle sauvegardé dans 'stacked_model.joblib'\")\n"
   ]
  }
 ],
 "metadata": {},
 "nbformat": 4,
 "nbformat_minor": 5
}
