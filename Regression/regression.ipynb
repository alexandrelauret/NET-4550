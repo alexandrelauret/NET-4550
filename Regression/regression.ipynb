{
 "cells": [
  {
   "cell_type": "code",
   "execution_count": 11,
   "id": "daf02687",
   "metadata": {},
   "outputs": [
    {
     "name": "stdout",
     "output_type": "stream",
     "text": [
      "   Diabetes_binary  HighBP  HighChol  CholCheck   BMI  Smoker  Stroke  \\\n",
      "0              0.0     1.0       0.0        1.0  26.0     0.0     0.0   \n",
      "1              0.0     1.0       1.0        1.0  26.0     1.0     1.0   \n",
      "2              0.0     0.0       0.0        1.0  26.0     0.0     0.0   \n",
      "3              0.0     1.0       1.0        1.0  28.0     1.0     0.0   \n",
      "4              0.0     0.0       0.0        1.0  29.0     1.0     0.0   \n",
      "\n",
      "   HeartDiseaseorAttack  PhysActivity  Fruits  ...  AnyHealthcare  \\\n",
      "0                   0.0           1.0     0.0  ...            1.0   \n",
      "1                   0.0           0.0     1.0  ...            1.0   \n",
      "2                   0.0           1.0     1.0  ...            1.0   \n",
      "3                   0.0           1.0     1.0  ...            1.0   \n",
      "4                   0.0           1.0     1.0  ...            1.0   \n",
      "\n",
      "   NoDocbcCost  GenHlth  MentHlth  PhysHlth  DiffWalk  Sex   Age  Education  \\\n",
      "0          0.0      3.0       5.0      30.0       0.0  1.0   4.0        6.0   \n",
      "1          0.0      3.0       0.0       0.0       0.0  1.0  12.0        6.0   \n",
      "2          0.0      1.0       0.0      10.0       0.0  1.0  13.0        6.0   \n",
      "3          0.0      3.0       0.0       3.0       0.0  1.0  11.0        6.0   \n",
      "4          0.0      2.0       0.0       0.0       0.0  0.0   8.0        5.0   \n",
      "\n",
      "   Income  \n",
      "0     8.0  \n",
      "1     8.0  \n",
      "2     8.0  \n",
      "3     8.0  \n",
      "4     8.0  \n",
      "\n",
      "[5 rows x 22 columns]\n"
     ]
    }
   ],
   "source": [
    "import pandas as pd # For dataframes (tables)\n",
    "import numpy as np # For arange\n",
    "import matplotlib.pyplot as plt # For plots\n",
    "%matplotlib inline\n",
    "from sklearn.model_selection import train_test_split\n",
    "from sklearn.metrics import mean_squared_error\n",
    "import math # for sqrt\n",
    "from sklearn.model_selection import cross_val_score, KFold\n",
    "import pickle # to serialize/deserialize objects\n",
    "import sys\n",
    "sys.path.append(\"..\")\n",
    "from statistics import mean\n",
    "\n",
    "from andrea_models import AndreaLinearRegression # In the course library\n",
    "import feature_engineering # From the course library\n",
    "\n",
    "# Load the CSV file\n",
    "csv_file = \"../Data/diabetes_binary_5050split_health_indicators_BRFSS2015.csv\"\n",
    "data = pd.read_csv(csv_file, sep=',')\n",
    "\n",
    "print(data.head())"
   ]
  },
  {
   "cell_type": "code",
   "execution_count": 12,
   "id": "7cd20619",
   "metadata": {},
   "outputs": [],
   "source": [
    "for col in ['BMI', 'PhysHlth', 'MentHlth']:\n",
    "    data[f'log_{col}'] = np.log1p(data[col])"
   ]
  },
  {
   "cell_type": "code",
   "execution_count": 13,
   "id": "a5c71977",
   "metadata": {},
   "outputs": [],
   "source": [
    "data_train, data_test = train_test_split(data, test_size=0.3)\n",
    "\n",
    "\n",
    "# Scikit learn models expect matrices. We first transform\n",
    "# the dataframe into an array\n",
    "X_train = data_train[['GenHlth'] ].values\n",
    "\n",
    "# Scikit learn models expect matrices with multiple\n",
    "# rows and columns as X. X_train has instead just one column\n",
    "# ==> The following code is necessary\n",
    "X_train = X_train.reshape(-1,1)\n",
    "\n",
    "y_train = data_train['Diabetes_binary'].values\n",
    "\n",
    "\n",
    "# Do the same for the test dataset\n",
    "X_test = data_test[[ 'GenHlth'] ].values.reshape(-1,1)\n",
    "y_test = data_test['Diabetes_binary'].values\n",
    "\n"
   ]
  },
  {
   "cell_type": "code",
   "execution_count": 14,
   "id": "cfd48975",
   "metadata": {},
   "outputs": [
    {
     "name": "stdout",
     "output_type": "stream",
     "text": [
      "                            OLS Regression Results                            \n",
      "==============================================================================\n",
      "Dep. Variable:                      y   R-squared:                       0.166\n",
      "Model:                            OLS   Adj. R-squared:                  0.166\n",
      "Method:                 Least Squares   F-statistic:                     9863.\n",
      "Date:                Wed, 14 May 2025   Prob (F-statistic):               0.00\n",
      "Time:                        15:43:45   Log-Likelihood:                -31418.\n",
      "No. Observations:               49484   AIC:                         6.284e+04\n",
      "Df Residuals:                   49482   BIC:                         6.286e+04\n",
      "Df Model:                           1                                         \n",
      "Covariance Type:            nonrobust                                         \n",
      "==============================================================================\n",
      "                 coef    std err          t      P>|t|      [0.025      0.975]\n",
      "------------------------------------------------------------------------------\n",
      "intercept     -0.0204      0.006     -3.631      0.000      -0.031      -0.009\n",
      "GenHlth        0.1833      0.002     99.310      0.000       0.180       0.187\n",
      "==============================================================================\n",
      "Omnibus:                  1922811.982   Durbin-Watson:                   1.984\n",
      "Prob(Omnibus):                  0.000   Jarque-Bera (JB):             3661.652\n",
      "Skew:                          -0.022   Prob(JB):                         0.00\n",
      "Kurtosis:                       1.668   Cond. No.                         9.16\n",
      "==============================================================================\n",
      "\n",
      "Notes:\n",
      "[1] Standard Errors assume that the covariance matrix of the errors is correctly specified.\n"
     ]
    }
   ],
   "source": [
    "model = AndreaLinearRegression()\n",
    "model.fit(X_train, y_train, column_names=['GenHlth'])\n",
    "model.summary()"
   ]
  },
  {
   "cell_type": "code",
   "execution_count": 15,
   "id": "faeb4871",
   "metadata": {},
   "outputs": [
    {
     "data": {
      "image/png": "[encoded data removed]",
      "text/plain": [
       "<Figure size 640x480 with 1 Axes>"
      ]
     },
     "metadata": {},
     "output_type": "display_data"
    }
   ],
   "source": [
    "plt.scatter(data['GenHlth'], data['Diabetes_binary'], alpha=0.5)\n",
    "plt.xlabel('GenHlth')\n",
    "plt.ylabel('Diabetes_binary')\n",
    "plt.title('Scatter Plot: GenHlth vs Diabetes_binary')\n",
    "plt.show()"
   ]
  },
  {
   "cell_type": "code",
   "execution_count": 16,
   "id": "ed48a57b",
   "metadata": {},
   "outputs": [
    {
     "name": "stdout",
     "output_type": "stream",
     "text": [
      "[0.34623939 0.52958131 0.16289748 0.34623939]\n"
     ]
    }
   ],
   "source": [
    "# Générer des exemples de valeurs pour \"GenHlth\"\n",
    "newGenHlthSamples = data_train['GenHlth'].sample(4).values.reshape(-1, 1)\n",
    "\n",
    "# Prédire les étiquettes avec le modèle\n",
    "predicted_values = model.predict(newGenHlthSamples)\n",
    "print(predicted_values)"
   ]
  },
  {
   "cell_type": "code",
   "execution_count": 17,
   "id": "4e51622a",
   "metadata": {},
   "outputs": [
    {
     "data": {
      "text/plain": [
       "<matplotlib.legend.Legend at 0x1d0d90f5400>"
      ]
     },
     "execution_count": 17,
     "metadata": {},
     "output_type": "execute_result"
    },
    {
     "data": {
      "image/png": "[encoded data removed]",
      "text/plain": [
       "<Figure size 640x480 with 1 Axes>"
      ]
     },
     "metadata": {},
     "output_type": "display_data"
    }
   ],
   "source": [
    "fig, ax = plt.subplots() # This creates just a canvas\n",
    "\n",
    "ax.scatter(X_train,y_train,color='blue',s=1,\n",
    "           label=\"training samples\")\n",
    "\n",
    "ax.plot(newGenHlthSamples,predicted_values, label=\"Linear Regression (OLS)\")\n",
    "ax.legend()\n"
   ]
  },
  {
   "cell_type": "code",
   "execution_count": 18,
   "id": "5499ea14",
   "metadata": {},
   "outputs": [
    {
     "data": {
      "text/html": [
       "<div>\n",
       "<style scoped>\n",
       "    .dataframe tbody tr th:only-of-type {\n",
       "        vertical-align: middle;\n",
       "    }\n",
       "\n",
       "    .dataframe tbody tr th {\n",
       "        vertical-align: top;\n",
       "    }\n",
       "\n",
       "    .dataframe thead th {\n",
       "        text-align: right;\n",
       "    }\n",
       "</style>\n",
       "<table border=\"1\" class=\"dataframe\">\n",
       "  <thead>\n",
       "    <tr style=\"text-align: right;\">\n",
       "      <th></th>\n",
       "      <th>true</th>\n",
       "      <th>pred</th>\n",
       "    </tr>\n",
       "  </thead>\n",
       "  <tbody>\n",
       "    <tr>\n",
       "      <th>0</th>\n",
       "      <td>0.0</td>\n",
       "      <td>0.346239</td>\n",
       "    </tr>\n",
       "    <tr>\n",
       "      <th>1</th>\n",
       "      <td>0.0</td>\n",
       "      <td>0.529581</td>\n",
       "    </tr>\n",
       "    <tr>\n",
       "      <th>2</th>\n",
       "      <td>0.0</td>\n",
       "      <td>0.712923</td>\n",
       "    </tr>\n",
       "    <tr>\n",
       "      <th>3</th>\n",
       "      <td>0.0</td>\n",
       "      <td>0.346239</td>\n",
       "    </tr>\n",
       "    <tr>\n",
       "      <th>4</th>\n",
       "      <td>1.0</td>\n",
       "      <td>0.529581</td>\n",
       "    </tr>\n",
       "    <tr>\n",
       "      <th>...</th>\n",
       "      <td>...</td>\n",
       "      <td>...</td>\n",
       "    </tr>\n",
       "    <tr>\n",
       "      <th>21203</th>\n",
       "      <td>0.0</td>\n",
       "      <td>0.529581</td>\n",
       "    </tr>\n",
       "    <tr>\n",
       "      <th>21204</th>\n",
       "      <td>1.0</td>\n",
       "      <td>0.712923</td>\n",
       "    </tr>\n",
       "    <tr>\n",
       "      <th>21205</th>\n",
       "      <td>1.0</td>\n",
       "      <td>0.529581</td>\n",
       "    </tr>\n",
       "    <tr>\n",
       "      <th>21206</th>\n",
       "      <td>0.0</td>\n",
       "      <td>0.162897</td>\n",
       "    </tr>\n",
       "    <tr>\n",
       "      <th>21207</th>\n",
       "      <td>0.0</td>\n",
       "      <td>0.162897</td>\n",
       "    </tr>\n",
       "  </tbody>\n",
       "</table>\n",
       "<p>21208 rows × 2 columns</p>\n",
       "</div>"
      ],
      "text/plain": [
       "       true      pred\n",
       "0       0.0  0.346239\n",
       "1       0.0  0.529581\n",
       "2       0.0  0.712923\n",
       "3       0.0  0.346239\n",
       "4       1.0  0.529581\n",
       "...     ...       ...\n",
       "21203   0.0  0.529581\n",
       "21204   1.0  0.712923\n",
       "21205   1.0  0.529581\n",
       "21206   0.0  0.162897\n",
       "21207   0.0  0.162897\n",
       "\n",
       "[21208 rows x 2 columns]"
      ]
     },
     "execution_count": 18,
     "metadata": {},
     "output_type": "execute_result"
    }
   ],
   "source": [
    "y_pred = model.predict(X_test)\n",
    "pd.DataFrame({'true':y_test,'pred':y_pred})"
   ]
  },
  {
   "cell_type": "code",
   "execution_count": 19,
   "id": "38dbfbb1",
   "metadata": {},
   "outputs": [
    {
     "name": "stdout",
     "output_type": "stream",
     "text": [
      "                            OLS Regression Results                            \n",
      "==============================================================================\n",
      "Dep. Variable:                      y   R-squared:                       0.166\n",
      "Model:                            OLS   Adj. R-squared:                  0.166\n",
      "Method:                 Least Squares   F-statistic:                     9863.\n",
      "Date:                Wed, 14 May 2025   Prob (F-statistic):               0.00\n",
      "Time:                        15:43:46   Log-Likelihood:                -31418.\n",
      "No. Observations:               49484   AIC:                         6.284e+04\n",
      "Df Residuals:                   49482   BIC:                         6.286e+04\n",
      "Df Model:                           1                                         \n",
      "Covariance Type:            nonrobust                                         \n",
      "==============================================================================\n",
      "                 coef    std err          t      P>|t|      [0.025      0.975]\n",
      "------------------------------------------------------------------------------\n",
      "intercept     -0.0204      0.006     -3.631      0.000      -0.031      -0.009\n",
      "GenHlth        0.1833      0.002     99.310      0.000       0.180       0.187\n",
      "==============================================================================\n",
      "Omnibus:                  1922811.982   Durbin-Watson:                   1.984\n",
      "Prob(Omnibus):                  0.000   Jarque-Bera (JB):             3661.652\n",
      "Skew:                          -0.022   Prob(JB):                         0.00\n",
      "Kurtosis:                       1.668   Cond. No.                         9.16\n",
      "==============================================================================\n",
      "\n",
      "Notes:\n",
      "[1] Standard Errors assume that the covariance matrix of the errors is correctly specified.\n"
     ]
    }
   ],
   "source": [
    "MSE = mean_squared_error(y_test, y_pred)\n",
    "RMSE_one_feature = math.sqrt(MSE)\n",
    "RMSE_one_feature\n",
    "model.summary()"
   ]
  },
  {
   "cell_type": "code",
   "execution_count": 20,
   "id": "9f16fac2",
   "metadata": {},
   "outputs": [
    {
     "data": {
      "text/plain": [
       "0.456604352853337"
      ]
     },
     "execution_count": 20,
     "metadata": {},
     "output_type": "execute_result"
    }
   ],
   "source": [
    "\n",
    "k_fold = KFold(n_splits=5, shuffle=True, random_state=3)\n",
    "\n",
    "scores = cross_val_score(AndreaLinearRegression(),\n",
    "                         X_train, y_train, cv=k_fold,\n",
    "                         scoring='neg_mean_squared_error')\n",
    "\n",
    "rmse = math.sqrt(mean(-scores))\n",
    "rmse"
   ]
  },
  {
   "cell_type": "code",
   "execution_count": 21,
   "id": "1f6a1323",
   "metadata": {},
   "outputs": [
    {
     "name": "stdout",
     "output_type": "stream",
     "text": [
      "                            OLS Regression Results                            \n",
      "==============================================================================\n",
      "Dep. Variable:                      y   R-squared:                       0.311\n",
      "Model:                            OLS   Adj. R-squared:                  0.311\n",
      "Method:                 Least Squares   F-statistic:                     1065.\n",
      "Date:                Wed, 14 May 2025   Prob (F-statistic):               0.00\n",
      "Time:                        15:43:46   Log-Likelihood:                -26683.\n",
      "No. Observations:               49484   AIC:                         5.341e+04\n",
      "Df Residuals:                   49462   BIC:                         5.360e+04\n",
      "Df Model:                          21                                         \n",
      "Covariance Type:            nonrobust                                         \n",
      "========================================================================================\n",
      "                           coef    std err          t      P>|t|      [0.025      0.975]\n",
      "----------------------------------------------------------------------------------------\n",
      "intercept               -1.6840      0.038    -44.764      0.000      -1.758      -1.610\n",
      "HighBP                   0.1478      0.004     33.604      0.000       0.139       0.156\n",
      "HighChol                 0.1087      0.004     26.759      0.000       0.101       0.117\n",
      "CholCheck                0.1530      0.012     12.484      0.000       0.129       0.177\n",
      "Smoker                  -0.0004      0.004     -0.092      0.926      -0.008       0.007\n",
      "Stroke                   0.0266      0.008      3.304      0.001       0.011       0.042\n",
      "HeartDiseaseorAttack     0.0476      0.006      8.273      0.000       0.036       0.059\n",
      "PhysActivity            -0.0020      0.004     -0.443      0.657      -0.011       0.007\n",
      "Fruits                  -0.0022      0.004     -0.535      0.593      -0.010       0.006\n",
      "Veggies                 -0.0131      0.005     -2.739      0.006      -0.023      -0.004\n",
      "HvyAlcoholConsump       -0.1200      0.009    -12.849      0.000      -0.138      -0.102\n",
      "AnyHealthcare            0.0087      0.009      0.927      0.354      -0.010       0.027\n",
      "NoDocbcCost              0.0019      0.007      0.280      0.779      -0.011       0.015\n",
      "GenHlth                  0.1040      0.002     44.931      0.000       0.099       0.109\n",
      "DiffWalk                 0.0215      0.005      3.958      0.000       0.011       0.032\n",
      "Sex                      0.0396      0.004     10.122      0.000       0.032       0.047\n",
      "Age                      0.0246      0.001     32.243      0.000       0.023       0.026\n",
      "Education               -0.0062      0.002     -2.954      0.003      -0.010      -0.002\n",
      "Income                  -0.0103      0.001     -9.694      0.000      -0.012      -0.008\n",
      "log_BMI                  0.4307      0.010     44.859      0.000       0.412       0.450\n",
      "log_PhysHlth            -0.0059      0.002     -3.105      0.002      -0.010      -0.002\n",
      "log_MentHlth            -0.0083      0.002     -4.435      0.000      -0.012      -0.005\n",
      "==============================================================================\n",
      "Omnibus:                     5562.025   Durbin-Watson:                   1.996\n",
      "Prob(Omnibus):                  0.000   Jarque-Bera (JB):             1705.943\n",
      "Skew:                          -0.161   Prob(JB):                         0.00\n",
      "Kurtosis:                       2.150   Cond. No.                         264.\n",
      "==============================================================================\n",
      "\n",
      "Notes:\n",
      "[1] Standard Errors assume that the covariance matrix of the errors is correctly specified.\n"
     ]
    }
   ],
   "source": [
    "data = data.drop(columns=['BMI', 'PhysHlth', 'MentHlth'])\n",
    "data_train, data_test = train_test_split(data, test_size=0.3)\n",
    "\n",
    "# Prepare the training data for all features\n",
    "X_train_full = data_train.drop(columns=['Diabetes_binary']).values\n",
    "y_train_full = data_train['Diabetes_binary'].values\n",
    "column_names = data_train.drop(columns=['Diabetes_binary']).columns.tolist()\n",
    "\n",
    "# Train the model with all features\n",
    "model_full = AndreaLinearRegression()\n",
    "model_full.fit(X_train_full, y_train_full, column_names=column_names)\n",
    "\n",
    "# Model summary\n",
    "model_full.summary()"
   ]
  },
  {
   "cell_type": "code",
   "execution_count": 22,
   "id": "4670316a",
   "metadata": {},
   "outputs": [
    {
     "data": {
      "text/plain": [
       "0.4151142504616198"
      ]
     },
     "execution_count": 22,
     "metadata": {},
     "output_type": "execute_result"
    }
   ],
   "source": [
    "# Refaire la validation croisée\n",
    "new_scores = cross_val_score(AndreaLinearRegression(),\n",
    "                             X_train_full, y_train_full, cv=k_fold,\n",
    "                             scoring='neg_mean_squared_error')\n",
    "\n",
    "new_rmse = math.sqrt(mean(-new_scores))\n",
    "new_rmse"
   ]
  }
 ],
 "metadata": {
  "kernelspec": {
   "display_name": "Python 3",
   "language": "python",
   "name": "python3"
  },
  "language_info": {
   "codemirror_mode": {
    "name": "ipython",
    "version": 3
   },
   "file_extension": ".py",
   "mimetype": "text/x-python",
   "name": "python",
   "nbconvert_exporter": "python",
   "pygments_lexer": "ipython3",
   "version": "3.13.1"
  }
 },
 "nbformat": 4,
 "nbformat_minor": 5
}
