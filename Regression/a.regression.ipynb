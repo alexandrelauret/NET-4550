{
  "cells": [
    {
      "cell_type": "markdown",
      "metadata": {
        "id": "Y_R5L20uZad9"
      },
      "source": [
        "[![Open In Colab](https://colab.research.google.com/assets/colab-badge.svg)](https://colab.research.google.com/github/andreaaraldo/machine-learning-for-networks/blob/master/02.regression/a.regression.ipynb)"
      ]
    },
    {
      "cell_type": "code",
      "execution_count": 3,
      "metadata": {
        "colab": {
          "base_uri": "https://localhost:8080/"
        },
        "id": "TRNYr5HIZadw",
        "outputId": "ae57c5e9-83f1-4e68-8738-dcc86248fb40"
      },
      "outputs": [],
      "source": [
        "import pandas as pd # For dataframes (tables)\n",
        "import numpy as np # For arange\n",
        "import matplotlib.pyplot as plt # For plots\n",
        "%matplotlib inline\n",
        "from sklearn.model_selection import train_test_split\n",
        "from sklearn.metrics import mean_squared_error\n",
        "import math # for sqrt\n",
        "from sklearn.model_selection import cross_val_score, KFold\n",
        "import pickle # to serialize/deserialize objects\n",
        "\n",
        "from statistics import mean\n",
        "import sys\n",
        "sys.path.append(\"..\")\n",
        "from statistics import mean\n",
        "\n",
        "from andrea_models import AndreaLinearRegression # In the course library\n",
        "import feature_engineering\n",
        "\n",
        "from andrea_models import AndreaLinearRegression # In the course library\n",
        "import feature_engineering # From the course library"
      ]
    },
    {
      "cell_type": "code",
      "execution_count": 4,
      "metadata": {
        "id": "JoPc-IhQn4nj"
      },
      "outputs": [],
      "source": [
        "savefigures=False"
      ]
    },
    {
      "cell_type": "code",
      "execution_count": 9,
      "metadata": {
        "colab": {
          "base_uri": "https://localhost:8080/"
        },
        "id": "ur2YR7XIZaeD",
        "outputId": "83119686-fcd2-4304-d786-8e814014e5e5"
      },
      "outputs": [],
      "source": [
        "dataset_to_use = 'A'\n",
        "mydatasets_folder = \"../Data/\"\n",
        "filename = \"diabetes_binary_5050split_health_indicators_BRFSS2015.csv\"\n",
        "complete_name = mydatasets_folder+filename\n"
      ]
    },
    {
      "cell_type": "code",
      "execution_count": 11,
      "metadata": {
        "id": "QUK4YMixb70D"
      },
      "outputs": [],
      "source": [
        "df = pd.read_csv(complete_name)"
      ]
    },
    {
      "cell_type": "code",
      "execution_count": 12,
      "metadata": {
        "colab": {
          "base_uri": "https://localhost:8080/",
          "height": 255
        },
        "id": "HDETEnsOZaeM",
        "outputId": "3e97804d-a2a9-4606-ea55-8246372eec18",
        "scrolled": true
      },
      "outputs": [
        {
          "data": {
            "text/html": [
              "<div>\n",
              "<style scoped>\n",
              "    .dataframe tbody tr th:only-of-type {\n",
              "        vertical-align: middle;\n",
              "    }\n",
              "\n",
              "    .dataframe tbody tr th {\n",
              "        vertical-align: top;\n",
              "    }\n",
              "\n",
              "    .dataframe thead th {\n",
              "        text-align: right;\n",
              "    }\n",
              "</style>\n",
              "<table border=\"1\" class=\"dataframe\">\n",
              "  <thead>\n",
              "    <tr style=\"text-align: right;\">\n",
              "      <th></th>\n",
              "      <th>Diabetes_binary</th>\n",
              "      <th>HighBP</th>\n",
              "      <th>HighChol</th>\n",
              "      <th>CholCheck</th>\n",
              "      <th>BMI</th>\n",
              "      <th>Smoker</th>\n",
              "      <th>Stroke</th>\n",
              "      <th>HeartDiseaseorAttack</th>\n",
              "      <th>PhysActivity</th>\n",
              "      <th>Fruits</th>\n",
              "      <th>...</th>\n",
              "      <th>AnyHealthcare</th>\n",
              "      <th>NoDocbcCost</th>\n",
              "      <th>GenHlth</th>\n",
              "      <th>MentHlth</th>\n",
              "      <th>PhysHlth</th>\n",
              "      <th>DiffWalk</th>\n",
              "      <th>Sex</th>\n",
              "      <th>Age</th>\n",
              "      <th>Education</th>\n",
              "      <th>Income</th>\n",
              "    </tr>\n",
              "  </thead>\n",
              "  <tbody>\n",
              "    <tr>\n",
              "      <th>0</th>\n",
              "      <td>0.0</td>\n",
              "      <td>1.0</td>\n",
              "      <td>0.0</td>\n",
              "      <td>1.0</td>\n",
              "      <td>26.0</td>\n",
              "      <td>0.0</td>\n",
              "      <td>0.0</td>\n",
              "      <td>0.0</td>\n",
              "      <td>1.0</td>\n",
              "      <td>0.0</td>\n",
              "      <td>...</td>\n",
              "      <td>1.0</td>\n",
              "      <td>0.0</td>\n",
              "      <td>3.0</td>\n",
              "      <td>5.0</td>\n",
              "      <td>30.0</td>\n",
              "      <td>0.0</td>\n",
              "      <td>1.0</td>\n",
              "      <td>4.0</td>\n",
              "      <td>6.0</td>\n",
              "      <td>8.0</td>\n",
              "    </tr>\n",
              "    <tr>\n",
              "      <th>1</th>\n",
              "      <td>0.0</td>\n",
              "      <td>1.0</td>\n",
              "      <td>1.0</td>\n",
              "      <td>1.0</td>\n",
              "      <td>26.0</td>\n",
              "      <td>1.0</td>\n",
              "      <td>1.0</td>\n",
              "      <td>0.0</td>\n",
              "      <td>0.0</td>\n",
              "      <td>1.0</td>\n",
              "      <td>...</td>\n",
              "      <td>1.0</td>\n",
              "      <td>0.0</td>\n",
              "      <td>3.0</td>\n",
              "      <td>0.0</td>\n",
              "      <td>0.0</td>\n",
              "      <td>0.0</td>\n",
              "      <td>1.0</td>\n",
              "      <td>12.0</td>\n",
              "      <td>6.0</td>\n",
              "      <td>8.0</td>\n",
              "    </tr>\n",
              "    <tr>\n",
              "      <th>2</th>\n",
              "      <td>0.0</td>\n",
              "      <td>0.0</td>\n",
              "      <td>0.0</td>\n",
              "      <td>1.0</td>\n",
              "      <td>26.0</td>\n",
              "      <td>0.0</td>\n",
              "      <td>0.0</td>\n",
              "      <td>0.0</td>\n",
              "      <td>1.0</td>\n",
              "      <td>1.0</td>\n",
              "      <td>...</td>\n",
              "      <td>1.0</td>\n",
              "      <td>0.0</td>\n",
              "      <td>1.0</td>\n",
              "      <td>0.0</td>\n",
              "      <td>10.0</td>\n",
              "      <td>0.0</td>\n",
              "      <td>1.0</td>\n",
              "      <td>13.0</td>\n",
              "      <td>6.0</td>\n",
              "      <td>8.0</td>\n",
              "    </tr>\n",
              "    <tr>\n",
              "      <th>3</th>\n",
              "      <td>0.0</td>\n",
              "      <td>1.0</td>\n",
              "      <td>1.0</td>\n",
              "      <td>1.0</td>\n",
              "      <td>28.0</td>\n",
              "      <td>1.0</td>\n",
              "      <td>0.0</td>\n",
              "      <td>0.0</td>\n",
              "      <td>1.0</td>\n",
              "      <td>1.0</td>\n",
              "      <td>...</td>\n",
              "      <td>1.0</td>\n",
              "      <td>0.0</td>\n",
              "      <td>3.0</td>\n",
              "      <td>0.0</td>\n",
              "      <td>3.0</td>\n",
              "      <td>0.0</td>\n",
              "      <td>1.0</td>\n",
              "      <td>11.0</td>\n",
              "      <td>6.0</td>\n",
              "      <td>8.0</td>\n",
              "    </tr>\n",
              "    <tr>\n",
              "      <th>4</th>\n",
              "      <td>0.0</td>\n",
              "      <td>0.0</td>\n",
              "      <td>0.0</td>\n",
              "      <td>1.0</td>\n",
              "      <td>29.0</td>\n",
              "      <td>1.0</td>\n",
              "      <td>0.0</td>\n",
              "      <td>0.0</td>\n",
              "      <td>1.0</td>\n",
              "      <td>1.0</td>\n",
              "      <td>...</td>\n",
              "      <td>1.0</td>\n",
              "      <td>0.0</td>\n",
              "      <td>2.0</td>\n",
              "      <td>0.0</td>\n",
              "      <td>0.0</td>\n",
              "      <td>0.0</td>\n",
              "      <td>0.0</td>\n",
              "      <td>8.0</td>\n",
              "      <td>5.0</td>\n",
              "      <td>8.0</td>\n",
              "    </tr>\n",
              "  </tbody>\n",
              "</table>\n",
              "<p>5 rows × 22 columns</p>\n",
              "</div>"
            ],
            "text/plain": [
              "   Diabetes_binary  HighBP  HighChol  CholCheck   BMI  Smoker  Stroke  \\\n",
              "0              0.0     1.0       0.0        1.0  26.0     0.0     0.0   \n",
              "1              0.0     1.0       1.0        1.0  26.0     1.0     1.0   \n",
              "2              0.0     0.0       0.0        1.0  26.0     0.0     0.0   \n",
              "3              0.0     1.0       1.0        1.0  28.0     1.0     0.0   \n",
              "4              0.0     0.0       0.0        1.0  29.0     1.0     0.0   \n",
              "\n",
              "   HeartDiseaseorAttack  PhysActivity  Fruits  ...  AnyHealthcare  \\\n",
              "0                   0.0           1.0     0.0  ...            1.0   \n",
              "1                   0.0           0.0     1.0  ...            1.0   \n",
              "2                   0.0           1.0     1.0  ...            1.0   \n",
              "3                   0.0           1.0     1.0  ...            1.0   \n",
              "4                   0.0           1.0     1.0  ...            1.0   \n",
              "\n",
              "   NoDocbcCost  GenHlth  MentHlth  PhysHlth  DiffWalk  Sex   Age  Education  \\\n",
              "0          0.0      3.0       5.0      30.0       0.0  1.0   4.0        6.0   \n",
              "1          0.0      3.0       0.0       0.0       0.0  1.0  12.0        6.0   \n",
              "2          0.0      1.0       0.0      10.0       0.0  1.0  13.0        6.0   \n",
              "3          0.0      3.0       0.0       3.0       0.0  1.0  11.0        6.0   \n",
              "4          0.0      2.0       0.0       0.0       0.0  0.0   8.0        5.0   \n",
              "\n",
              "   Income  \n",
              "0     8.0  \n",
              "1     8.0  \n",
              "2     8.0  \n",
              "3     8.0  \n",
              "4     8.0  \n",
              "\n",
              "[5 rows x 22 columns]"
            ]
          },
          "execution_count": 12,
          "metadata": {},
          "output_type": "execute_result"
        }
      ],
      "source": [
        "df.head()"
      ]
    },
    {
      "cell_type": "code",
      "execution_count": 13,
      "metadata": {
        "colab": {
          "base_uri": "https://localhost:8080/"
        },
        "id": "tWOsCMFiZaeT",
        "outputId": "445fdd60-d074-41c1-e4d4-80af66c21f8e",
        "scrolled": true
      },
      "outputs": [
        {
          "name": "stdout",
          "output_type": "stream",
          "text": [
            "<class 'pandas.core.frame.DataFrame'>\n",
            "RangeIndex: 70692 entries, 0 to 70691\n",
            "Data columns (total 22 columns):\n",
            " #   Column                Non-Null Count  Dtype  \n",
            "---  ------                --------------  -----  \n",
            " 0   Diabetes_binary       70692 non-null  float64\n",
            " 1   HighBP                70692 non-null  float64\n",
            " 2   HighChol              70692 non-null  float64\n",
            " 3   CholCheck             70692 non-null  float64\n",
            " 4   BMI                   70692 non-null  float64\n",
            " 5   Smoker                70692 non-null  float64\n",
            " 6   Stroke                70692 non-null  float64\n",
            " 7   HeartDiseaseorAttack  70692 non-null  float64\n",
            " 8   PhysActivity          70692 non-null  float64\n",
            " 9   Fruits                70692 non-null  float64\n",
            " 10  Veggies               70692 non-null  float64\n",
            " 11  HvyAlcoholConsump     70692 non-null  float64\n",
            " 12  AnyHealthcare         70692 non-null  float64\n",
            " 13  NoDocbcCost           70692 non-null  float64\n",
            " 14  GenHlth               70692 non-null  float64\n",
            " 15  MentHlth              70692 non-null  float64\n",
            " 16  PhysHlth              70692 non-null  float64\n",
            " 17  DiffWalk              70692 non-null  float64\n",
            " 18  Sex                   70692 non-null  float64\n",
            " 19  Age                   70692 non-null  float64\n",
            " 20  Education             70692 non-null  float64\n",
            " 21  Income                70692 non-null  float64\n",
            "dtypes: float64(22)\n",
            "memory usage: 11.9 MB\n"
          ]
        }
      ],
      "source": [
        "df.info(verbose=True)"
      ]
    },
    {
      "cell_type": "markdown",
      "metadata": {
        "id": "8POUiIfOZaec"
      },
      "source": [
        "Let's study the dependency between `label` and `KBytesReceived`"
      ]
    },
    {
      "cell_type": "markdown",
      "metadata": {
        "id": "AYPMX09MZaee"
      },
      "source": [
        "Let's first plot the data as they are, using a scatterplot.\n",
        "\n",
        "See [mathplotlib documentation](https://matplotlib.org/tutorials/introductory/lifecycle.html) for more info (optional)."
      ]
    },
    {
      "cell_type": "code",
      "execution_count": 31,
      "metadata": {
        "colab": {
          "base_uri": "https://localhost:8080/",
          "height": 524
        },
        "id": "BCNcu9UbZaef",
        "outputId": "7d2035e8-e0b4-4680-8dd4-05195dbd9136",
        "scrolled": true
      },
      "outputs": [
        {
          "data": {
            "text/plain": [
              "[(0.0, 6.0),\n",
              " (-0.5, 2.0),\n",
              " Text(0, 0.5, 'Diabete'),\n",
              " Text(0.5, 0, 'General Health')]"
            ]
          },
          "execution_count": 31,
          "metadata": {},
          "output_type": "execute_result"
        },
        {
          "data": {
            "image/png": "[encoded data removed]",
            "text/plain": [
              "<Figure size 640x480 with 1 Axes>"
            ]
          },
          "metadata": {},
          "output_type": "display_data"
        }
      ],
      "source": [
        "fig, ax = plt.subplots() # This creates just a canvas\n",
        "ax.scatter(df['GenHlth'],df['Diabetes_binary'],color='red',\n",
        "           s=1, label='all samples') # ax is the actual figure\n",
        "\n",
        "# Customize the plot\n",
        "ax.set(xlim=[0,6], ylim=[-0.5,2], ylabel=\"Diabete\",\n",
        "      xlabel=\"General Health\")"
      ]
    },
    {
      "cell_type": "markdown",
      "metadata": {
        "id": "Hu-81zM7ndLP"
      },
      "source": [
        "# Train-test-split\n",
        "\n",
        "We now divide the dataframe in a training and a test dataframe. By default, the dataset is split randomly (which is good)."
      ]
    },
    {
      "cell_type": "code",
      "execution_count": 20,
      "metadata": {
        "colab": {
          "base_uri": "https://localhost:8080/",
          "height": 255
        },
        "id": "9StTza7-Zael",
        "outputId": "8f17befc-ed23-46b6-b363-9695a39da5e1",
        "scrolled": false
      },
      "outputs": [
        {
          "data": {
            "text/html": [
              "<div>\n",
              "<style scoped>\n",
              "    .dataframe tbody tr th:only-of-type {\n",
              "        vertical-align: middle;\n",
              "    }\n",
              "\n",
              "    .dataframe tbody tr th {\n",
              "        vertical-align: top;\n",
              "    }\n",
              "\n",
              "    .dataframe thead th {\n",
              "        text-align: right;\n",
              "    }\n",
              "</style>\n",
              "<table border=\"1\" class=\"dataframe\">\n",
              "  <thead>\n",
              "    <tr style=\"text-align: right;\">\n",
              "      <th></th>\n",
              "      <th>Diabetes_binary</th>\n",
              "      <th>HighBP</th>\n",
              "      <th>HighChol</th>\n",
              "      <th>CholCheck</th>\n",
              "      <th>BMI</th>\n",
              "      <th>Smoker</th>\n",
              "      <th>Stroke</th>\n",
              "      <th>HeartDiseaseorAttack</th>\n",
              "      <th>PhysActivity</th>\n",
              "      <th>Fruits</th>\n",
              "      <th>...</th>\n",
              "      <th>AnyHealthcare</th>\n",
              "      <th>NoDocbcCost</th>\n",
              "      <th>GenHlth</th>\n",
              "      <th>MentHlth</th>\n",
              "      <th>PhysHlth</th>\n",
              "      <th>DiffWalk</th>\n",
              "      <th>Sex</th>\n",
              "      <th>Age</th>\n",
              "      <th>Education</th>\n",
              "      <th>Income</th>\n",
              "    </tr>\n",
              "  </thead>\n",
              "  <tbody>\n",
              "    <tr>\n",
              "      <th>28927</th>\n",
              "      <td>0.0</td>\n",
              "      <td>1.0</td>\n",
              "      <td>0.0</td>\n",
              "      <td>1.0</td>\n",
              "      <td>28.0</td>\n",
              "      <td>1.0</td>\n",
              "      <td>0.0</td>\n",
              "      <td>0.0</td>\n",
              "      <td>1.0</td>\n",
              "      <td>1.0</td>\n",
              "      <td>...</td>\n",
              "      <td>1.0</td>\n",
              "      <td>0.0</td>\n",
              "      <td>2.0</td>\n",
              "      <td>0.0</td>\n",
              "      <td>0.0</td>\n",
              "      <td>0.0</td>\n",
              "      <td>1.0</td>\n",
              "      <td>9.0</td>\n",
              "      <td>4.0</td>\n",
              "      <td>3.0</td>\n",
              "    </tr>\n",
              "    <tr>\n",
              "      <th>14629</th>\n",
              "      <td>0.0</td>\n",
              "      <td>1.0</td>\n",
              "      <td>1.0</td>\n",
              "      <td>1.0</td>\n",
              "      <td>26.0</td>\n",
              "      <td>1.0</td>\n",
              "      <td>0.0</td>\n",
              "      <td>0.0</td>\n",
              "      <td>1.0</td>\n",
              "      <td>1.0</td>\n",
              "      <td>...</td>\n",
              "      <td>1.0</td>\n",
              "      <td>0.0</td>\n",
              "      <td>2.0</td>\n",
              "      <td>0.0</td>\n",
              "      <td>2.0</td>\n",
              "      <td>0.0</td>\n",
              "      <td>0.0</td>\n",
              "      <td>8.0</td>\n",
              "      <td>6.0</td>\n",
              "      <td>8.0</td>\n",
              "    </tr>\n",
              "    <tr>\n",
              "      <th>55004</th>\n",
              "      <td>1.0</td>\n",
              "      <td>1.0</td>\n",
              "      <td>1.0</td>\n",
              "      <td>1.0</td>\n",
              "      <td>32.0</td>\n",
              "      <td>1.0</td>\n",
              "      <td>0.0</td>\n",
              "      <td>1.0</td>\n",
              "      <td>0.0</td>\n",
              "      <td>0.0</td>\n",
              "      <td>...</td>\n",
              "      <td>1.0</td>\n",
              "      <td>0.0</td>\n",
              "      <td>4.0</td>\n",
              "      <td>0.0</td>\n",
              "      <td>7.0</td>\n",
              "      <td>0.0</td>\n",
              "      <td>1.0</td>\n",
              "      <td>7.0</td>\n",
              "      <td>6.0</td>\n",
              "      <td>8.0</td>\n",
              "    </tr>\n",
              "    <tr>\n",
              "      <th>10330</th>\n",
              "      <td>0.0</td>\n",
              "      <td>0.0</td>\n",
              "      <td>0.0</td>\n",
              "      <td>1.0</td>\n",
              "      <td>41.0</td>\n",
              "      <td>1.0</td>\n",
              "      <td>0.0</td>\n",
              "      <td>1.0</td>\n",
              "      <td>0.0</td>\n",
              "      <td>0.0</td>\n",
              "      <td>...</td>\n",
              "      <td>1.0</td>\n",
              "      <td>0.0</td>\n",
              "      <td>3.0</td>\n",
              "      <td>0.0</td>\n",
              "      <td>0.0</td>\n",
              "      <td>0.0</td>\n",
              "      <td>0.0</td>\n",
              "      <td>12.0</td>\n",
              "      <td>5.0</td>\n",
              "      <td>6.0</td>\n",
              "    </tr>\n",
              "    <tr>\n",
              "      <th>13078</th>\n",
              "      <td>0.0</td>\n",
              "      <td>1.0</td>\n",
              "      <td>1.0</td>\n",
              "      <td>1.0</td>\n",
              "      <td>23.0</td>\n",
              "      <td>0.0</td>\n",
              "      <td>0.0</td>\n",
              "      <td>0.0</td>\n",
              "      <td>1.0</td>\n",
              "      <td>1.0</td>\n",
              "      <td>...</td>\n",
              "      <td>1.0</td>\n",
              "      <td>0.0</td>\n",
              "      <td>1.0</td>\n",
              "      <td>0.0</td>\n",
              "      <td>0.0</td>\n",
              "      <td>0.0</td>\n",
              "      <td>0.0</td>\n",
              "      <td>13.0</td>\n",
              "      <td>5.0</td>\n",
              "      <td>3.0</td>\n",
              "    </tr>\n",
              "  </tbody>\n",
              "</table>\n",
              "<p>5 rows × 22 columns</p>\n",
              "</div>"
            ],
            "text/plain": [
              "       Diabetes_binary  HighBP  HighChol  CholCheck   BMI  Smoker  Stroke  \\\n",
              "28927              0.0     1.0       0.0        1.0  28.0     1.0     0.0   \n",
              "14629              0.0     1.0       1.0        1.0  26.0     1.0     0.0   \n",
              "55004              1.0     1.0       1.0        1.0  32.0     1.0     0.0   \n",
              "10330              0.0     0.0       0.0        1.0  41.0     1.0     0.0   \n",
              "13078              0.0     1.0       1.0        1.0  23.0     0.0     0.0   \n",
              "\n",
              "       HeartDiseaseorAttack  PhysActivity  Fruits  ...  AnyHealthcare  \\\n",
              "28927                   0.0           1.0     1.0  ...            1.0   \n",
              "14629                   0.0           1.0     1.0  ...            1.0   \n",
              "55004                   1.0           0.0     0.0  ...            1.0   \n",
              "10330                   1.0           0.0     0.0  ...            1.0   \n",
              "13078                   0.0           1.0     1.0  ...            1.0   \n",
              "\n",
              "       NoDocbcCost  GenHlth  MentHlth  PhysHlth  DiffWalk  Sex   Age  \\\n",
              "28927          0.0      2.0       0.0       0.0       0.0  1.0   9.0   \n",
              "14629          0.0      2.0       0.0       2.0       0.0  0.0   8.0   \n",
              "55004          0.0      4.0       0.0       7.0       0.0  1.0   7.0   \n",
              "10330          0.0      3.0       0.0       0.0       0.0  0.0  12.0   \n",
              "13078          0.0      1.0       0.0       0.0       0.0  0.0  13.0   \n",
              "\n",
              "       Education  Income  \n",
              "28927        4.0     3.0  \n",
              "14629        6.0     8.0  \n",
              "55004        6.0     8.0  \n",
              "10330        5.0     6.0  \n",
              "13078        5.0     3.0  \n",
              "\n",
              "[5 rows x 22 columns]"
            ]
          },
          "execution_count": 20,
          "metadata": {},
          "output_type": "execute_result"
        }
      ],
      "source": [
        "df_train, df_test = train_test_split(df, test_size=0.3)\n",
        "df_test.head()"
      ]
    },
    {
      "cell_type": "markdown",
      "metadata": {
        "id": "L87_ZI6FZaer"
      },
      "source": [
        "Let's split the dataset in 70% training set, 30% test set."
      ]
    },
    {
      "cell_type": "markdown",
      "metadata": {
        "id": "D57IUuJ-Zaet"
      },
      "source": [
        "Try to run the code above multiple times.\n",
        "\n",
        "What do you observe? Is it a problem? How do you solve it?"
      ]
    },
    {
      "cell_type": "markdown",
      "metadata": {
        "id": "vM7cN44RZaew"
      },
      "source": [
        "To achieve reproducibility, set the seed with `random_state`."
      ]
    },
    {
      "cell_type": "code",
      "execution_count": 27,
      "metadata": {
        "colab": {
          "base_uri": "https://localhost:8080/"
        },
        "id": "Zst6Gz49Zaey",
        "outputId": "bd73ed97-4c0e-4783-aaf4-a238c451c4b3"
      },
      "outputs": [
        {
          "name": "stdout",
          "output_type": "stream",
          "text": [
            "Training samples  49484 ; Test samples  21208\n"
          ]
        }
      ],
      "source": [
        "df_train, df_test = train_test_split(df, test_size=0.3, random_state=19)\n",
        "df_test.head()\n",
        "\n",
        "print('Training samples ', df_train.shape[0], '; Test samples ', df_test.shape[0])"
      ]
    },
    {
      "cell_type": "markdown",
      "metadata": {
        "id": "dqZ4u5GEZae3"
      },
      "source": [
        "## Univariate Linear Regression"
      ]
    },
    {
      "cell_type": "markdown",
      "metadata": {
        "id": "xCozQN3-Zae5"
      },
      "source": [
        "**Goal**: Predict `Diabetes_binary` based on `GenHlth`"
      ]
    },
    {
      "cell_type": "code",
      "execution_count": 33,
      "metadata": {
        "colab": {
          "base_uri": "https://localhost:8080/",
          "height": 424
        },
        "id": "gLNU1if4Zae6",
        "outputId": "4471ca82-6f23-4950-aad1-86bed8e94ba2"
      },
      "outputs": [
        {
          "data": {
            "text/html": [
              "<div>\n",
              "<style scoped>\n",
              "    .dataframe tbody tr th:only-of-type {\n",
              "        vertical-align: middle;\n",
              "    }\n",
              "\n",
              "    .dataframe tbody tr th {\n",
              "        vertical-align: top;\n",
              "    }\n",
              "\n",
              "    .dataframe thead th {\n",
              "        text-align: right;\n",
              "    }\n",
              "</style>\n",
              "<table border=\"1\" class=\"dataframe\">\n",
              "  <thead>\n",
              "    <tr style=\"text-align: right;\">\n",
              "      <th></th>\n",
              "      <th>GenHlth</th>\n",
              "      <th>Diabetes_binary</th>\n",
              "    </tr>\n",
              "  </thead>\n",
              "  <tbody>\n",
              "    <tr>\n",
              "      <th>9566</th>\n",
              "      <td>3.0</td>\n",
              "      <td>0.0</td>\n",
              "    </tr>\n",
              "    <tr>\n",
              "      <th>24349</th>\n",
              "      <td>2.0</td>\n",
              "      <td>0.0</td>\n",
              "    </tr>\n",
              "    <tr>\n",
              "      <th>33408</th>\n",
              "      <td>2.0</td>\n",
              "      <td>0.0</td>\n",
              "    </tr>\n",
              "    <tr>\n",
              "      <th>16178</th>\n",
              "      <td>2.0</td>\n",
              "      <td>0.0</td>\n",
              "    </tr>\n",
              "    <tr>\n",
              "      <th>6634</th>\n",
              "      <td>2.0</td>\n",
              "      <td>0.0</td>\n",
              "    </tr>\n",
              "    <tr>\n",
              "      <th>...</th>\n",
              "      <td>...</td>\n",
              "      <td>...</td>\n",
              "    </tr>\n",
              "    <tr>\n",
              "      <th>45218</th>\n",
              "      <td>2.0</td>\n",
              "      <td>1.0</td>\n",
              "    </tr>\n",
              "    <tr>\n",
              "      <th>17218</th>\n",
              "      <td>3.0</td>\n",
              "      <td>0.0</td>\n",
              "    </tr>\n",
              "    <tr>\n",
              "      <th>17738</th>\n",
              "      <td>3.0</td>\n",
              "      <td>0.0</td>\n",
              "    </tr>\n",
              "    <tr>\n",
              "      <th>39220</th>\n",
              "      <td>5.0</td>\n",
              "      <td>1.0</td>\n",
              "    </tr>\n",
              "    <tr>\n",
              "      <th>33811</th>\n",
              "      <td>2.0</td>\n",
              "      <td>0.0</td>\n",
              "    </tr>\n",
              "  </tbody>\n",
              "</table>\n",
              "<p>49484 rows × 2 columns</p>\n",
              "</div>"
            ],
            "text/plain": [
              "       GenHlth  Diabetes_binary\n",
              "9566       3.0              0.0\n",
              "24349      2.0              0.0\n",
              "33408      2.0              0.0\n",
              "16178      2.0              0.0\n",
              "6634       2.0              0.0\n",
              "...        ...              ...\n",
              "45218      2.0              1.0\n",
              "17218      3.0              0.0\n",
              "17738      3.0              0.0\n",
              "39220      5.0              1.0\n",
              "33811      2.0              0.0\n",
              "\n",
              "[49484 rows x 2 columns]"
            ]
          },
          "execution_count": 33,
          "metadata": {},
          "output_type": "execute_result"
        }
      ],
      "source": [
        "df_train[['GenHlth','Diabetes_binary']]"
      ]
    },
    {
      "cell_type": "markdown",
      "metadata": {
        "id": "fqS9xxiAZafA"
      },
      "source": [
        "Let's separate the independent variables $X$ from the dependent variables $y$"
      ]
    },
    {
      "cell_type": "code",
      "execution_count": 35,
      "metadata": {
        "id": "GLIEAfroZafB"
      },
      "outputs": [],
      "source": [
        "# Scikit learn models expect matrices. We first transform\n",
        "# the dataframe into an array\n",
        "X_train = df_train[['GenHlth'] ].values\n",
        "\n",
        "# Scikit learn models expect matrices with multiple\n",
        "# rows and columns as X. X_train has instead just one column\n",
        "# ==> The following code is necessary\n",
        "X_train = X_train.reshape(-1,1)\n",
        "\n",
        "y_train = df_train['Diabetes_binary'].values\n",
        "\n",
        "\n",
        "# Do the same for the test dataset\n",
        "X_test = df_test[[ 'GenHlth'] ].values.reshape(-1,1)\n",
        "y_test = df_test['Diabetes_binary'].values"
      ]
    },
    {
      "cell_type": "markdown",
      "metadata": {
        "id": "emtf78TgZafG"
      },
      "source": [
        "Let's train our first supervised learning model: an Ordinary Least Squares model."
      ]
    },
    {
      "cell_type": "markdown",
      "metadata": {
        "id": "Rb54eFYJZafH"
      },
      "source": [
        "Note: the main library for machine learning in Python is `scikit learn`. However `sklearn.LinearRegression` is quite poor, as it does not provide p-values and other information.\n",
        "\n",
        "An alternative library to `sklearn` exists, which is called `statsmodel` is better, but its interface is different from the other models of `sklearn`.\n",
        "\n",
        "I prepared the function `andrea_models.AndreaLinearRegression`, important at the beginning, to combine the best of `sklearn.LinearRegression` and `statsmodel`: it has tje same interface of `scikit learn` and the additional information of `statsmodel`."
      ]
    },
    {
      "cell_type": "code",
      "execution_count": 36,
      "metadata": {
        "colab": {
          "base_uri": "https://localhost:8080/"
        },
        "id": "K3bthb-mZafJ",
        "outputId": "f9e1d275-8e0a-406d-b5d7-e06b8aff93ca"
      },
      "outputs": [
        {
          "name": "stdout",
          "output_type": "stream",
          "text": [
            "                            OLS Regression Results                            \n",
            "==============================================================================\n",
            "Dep. Variable:                      y   R-squared:                       0.163\n",
            "Model:                            OLS   Adj. R-squared:                  0.163\n",
            "Method:                 Least Squares   F-statistic:                     9638.\n",
            "Date:                Wed, 14 May 2025   Prob (F-statistic):               0.00\n",
            "Time:                        16:20:11   Log-Likelihood:                -31512.\n",
            "No. Observations:               49484   AIC:                         6.303e+04\n",
            "Df Residuals:                   49482   BIC:                         6.305e+04\n",
            "Df Model:                           1                                         \n",
            "Covariance Type:            nonrobust                                         \n",
            "==============================================================================\n",
            "                 coef    std err          t      P>|t|      [0.025      0.975]\n",
            "------------------------------------------------------------------------------\n",
            "intercept     -0.0148      0.006     -2.637      0.008      -0.026      -0.004\n",
            "GenHlth        0.1812      0.002     98.174      0.000       0.178       0.185\n",
            "==============================================================================\n",
            "Omnibus:                  1384479.279   Durbin-Watson:                   2.004\n",
            "Prob(Omnibus):                  0.000   Jarque-Bera (JB):             3717.106\n",
            "Skew:                          -0.019   Prob(JB):                         0.00\n",
            "Kurtosis:                       1.658   Cond. No.                         9.13\n",
            "==============================================================================\n",
            "\n",
            "Notes:\n",
            "[1] Standard Errors assume that the covariance matrix of the errors is correctly specified.\n"
          ]
        }
      ],
      "source": [
        "model = AndreaLinearRegression()\n",
        "model.fit(X_train, y_train, column_names=['GenHlth'])\n",
        "model.summary()"
      ]
    },
    {
      "cell_type": "markdown",
      "metadata": {
        "id": "tVArgDOFZafP"
      },
      "source": [
        "Now we have a trained model $h_{\\theta*}(\\cdot)$ stored in `model`. We can use it to predict new values."
      ]
    },
    {
      "cell_type": "code",
      "execution_count": 51,
      "metadata": {
        "colab": {
          "base_uri": "https://localhost:8080/"
        },
        "id": "kblDjTClZafQ",
        "outputId": "72fde064-fdd1-4e6c-9e3e-674cdb4736fd"
      },
      "outputs": [
        {
          "data": {
            "text/plain": [
              "array([0.16633605, 0.70984174, 0.8910103 , 0.34750461, 0.16633605,\n",
              "       0.52867318])"
            ]
          },
          "execution_count": 51,
          "metadata": {},
          "output_type": "execute_result"
        }
      ],
      "source": [
        "NewGenHlth = np.array([1, 4, 5, 2, 1, 3]).reshape(-1,1)\n",
        "\n",
        "\n",
        "predictedLabels = model.predict(NewGenHlth)\n",
        "predictedLabels"
      ]
    },
    {
      "cell_type": "markdown",
      "metadata": {
        "id": "K3eXFPKsZafV"
      },
      "source": [
        "To plot the model, we let it predict on an interval"
      ]
    },
    {
      "cell_type": "code",
      "execution_count": 52,
      "metadata": {
        "colab": {
          "base_uri": "https://localhost:8080/"
        },
        "id": "nMT1-M28ZafW",
        "outputId": "4c0c8e6b-05d0-41e1-fc1d-eafeb992a191"
      },
      "outputs": [
        {
          "data": {
            "text/plain": [
              "array([0.07575177, 0.25692033])"
            ]
          },
          "execution_count": 52,
          "metadata": {},
          "output_type": "execute_result"
        }
      ],
      "source": [
        "interval = np.arange(0.5,2).reshape(-1,1)\n",
        "h_values = model.predict(interval)\n",
        "h_values"
      ]
    },
    {
      "cell_type": "markdown",
      "metadata": {
        "id": "4qZ6KEvZZafa"
      },
      "source": [
        "Let's plot the model. It is constructed so to minimize the distance between the blue points (training samples) and the line"
      ]
    },
    {
      "cell_type": "code",
      "execution_count": 59,
      "metadata": {
        "colab": {
          "base_uri": "https://localhost:8080/",
          "height": 455
        },
        "id": "8_QSV59-Zafc",
        "outputId": "a41348fd-7f2e-4dbf-f6c5-79b767f38cff",
        "scrolled": true
      },
      "outputs": [
        {
          "data": {
            "image/png": "[encoded data removed]",
            "text/plain": [
              "<Figure size 640x480 with 1 Axes>"
            ]
          },
          "execution_count": 59,
          "metadata": {},
          "output_type": "execute_result"
        }
      ],
      "source": [
        "# fig, ax = plt.subplots() \n",
        "ax.clear()\n",
        "ax.scatter(X_train,y_train,color='blue',s=1,\n",
        "           label=\"training samples\")\n",
        "\n",
        "ax.plot(interval,h_values, label=\"Linear Regression (OLS)\")\n",
        "ax.legend()\n",
        "\n",
        "fig"
      ]
    },
    {
      "cell_type": "markdown",
      "metadata": {
        "id": "8yIZmM7-Zafg"
      },
      "source": [
        "Let's evaluate the model on the test set"
      ]
    },
    {
      "cell_type": "code",
      "execution_count": 60,
      "metadata": {
        "id": "vO41UMCCZafh"
      },
      "outputs": [],
      "source": [
        "y_pred = model.predict(X_test)"
      ]
    },
    {
      "cell_type": "markdown",
      "metadata": {
        "id": "ZH4BFM-KZafm"
      },
      "source": [
        "Let us compare the true test labels and the predicted"
      ]
    },
    {
      "cell_type": "code",
      "execution_count": 61,
      "metadata": {
        "colab": {
          "base_uri": "https://localhost:8080/",
          "height": 424
        },
        "id": "XQhMifAjZafm",
        "outputId": "e56cc2fe-95d1-4a47-a6ba-4ad55da77c66",
        "scrolled": true
      },
      "outputs": [
        {
          "data": {
            "text/html": [
              "<div>\n",
              "<style scoped>\n",
              "    .dataframe tbody tr th:only-of-type {\n",
              "        vertical-align: middle;\n",
              "    }\n",
              "\n",
              "    .dataframe tbody tr th {\n",
              "        vertical-align: top;\n",
              "    }\n",
              "\n",
              "    .dataframe thead th {\n",
              "        text-align: right;\n",
              "    }\n",
              "</style>\n",
              "<table border=\"1\" class=\"dataframe\">\n",
              "  <thead>\n",
              "    <tr style=\"text-align: right;\">\n",
              "      <th></th>\n",
              "      <th>true</th>\n",
              "      <th>pred</th>\n",
              "    </tr>\n",
              "  </thead>\n",
              "  <tbody>\n",
              "    <tr>\n",
              "      <th>0</th>\n",
              "      <td>1.0</td>\n",
              "      <td>0.347505</td>\n",
              "    </tr>\n",
              "    <tr>\n",
              "      <th>1</th>\n",
              "      <td>1.0</td>\n",
              "      <td>0.347505</td>\n",
              "    </tr>\n",
              "    <tr>\n",
              "      <th>2</th>\n",
              "      <td>0.0</td>\n",
              "      <td>0.166336</td>\n",
              "    </tr>\n",
              "    <tr>\n",
              "      <th>3</th>\n",
              "      <td>1.0</td>\n",
              "      <td>0.528673</td>\n",
              "    </tr>\n",
              "    <tr>\n",
              "      <th>4</th>\n",
              "      <td>0.0</td>\n",
              "      <td>0.709842</td>\n",
              "    </tr>\n",
              "    <tr>\n",
              "      <th>...</th>\n",
              "      <td>...</td>\n",
              "      <td>...</td>\n",
              "    </tr>\n",
              "    <tr>\n",
              "      <th>21203</th>\n",
              "      <td>0.0</td>\n",
              "      <td>0.891010</td>\n",
              "    </tr>\n",
              "    <tr>\n",
              "      <th>21204</th>\n",
              "      <td>0.0</td>\n",
              "      <td>0.528673</td>\n",
              "    </tr>\n",
              "    <tr>\n",
              "      <th>21205</th>\n",
              "      <td>1.0</td>\n",
              "      <td>0.709842</td>\n",
              "    </tr>\n",
              "    <tr>\n",
              "      <th>21206</th>\n",
              "      <td>1.0</td>\n",
              "      <td>0.891010</td>\n",
              "    </tr>\n",
              "    <tr>\n",
              "      <th>21207</th>\n",
              "      <td>0.0</td>\n",
              "      <td>0.347505</td>\n",
              "    </tr>\n",
              "  </tbody>\n",
              "</table>\n",
              "<p>21208 rows × 2 columns</p>\n",
              "</div>"
            ],
            "text/plain": [
              "       true      pred\n",
              "0       1.0  0.347505\n",
              "1       1.0  0.347505\n",
              "2       0.0  0.166336\n",
              "3       1.0  0.528673\n",
              "4       0.0  0.709842\n",
              "...     ...       ...\n",
              "21203   0.0  0.891010\n",
              "21204   0.0  0.528673\n",
              "21205   1.0  0.709842\n",
              "21206   1.0  0.891010\n",
              "21207   0.0  0.347505\n",
              "\n",
              "[21208 rows x 2 columns]"
            ]
          },
          "execution_count": 61,
          "metadata": {},
          "output_type": "execute_result"
        }
      ],
      "source": [
        "pd.DataFrame({'true':y_test,'pred':y_pred})"
      ]
    },
    {
      "cell_type": "markdown",
      "metadata": {
        "id": "cf73Iu6cZafr"
      },
      "source": [
        "Let's compute the Mean Square Error (MSE)"
      ]
    },
    {
      "cell_type": "code",
      "execution_count": 62,
      "metadata": {
        "colab": {
          "base_uri": "https://localhost:8080/"
        },
        "id": "oFcL5ymXZafr",
        "outputId": "f6f54dff-0aba-417b-c3cd-4327cd07a631",
        "scrolled": true
      },
      "outputs": [
        {
          "data": {
            "text/plain": [
              "0.20666066834087266"
            ]
          },
          "execution_count": 62,
          "metadata": {},
          "output_type": "execute_result"
        }
      ],
      "source": [
        "MSE = mean_squared_error(y_test, y_pred)\n",
        "MSE"
      ]
    },
    {
      "cell_type": "markdown",
      "metadata": {
        "id": "6rtGOUUuZafw"
      },
      "source": [
        "The Root MSE is easier to understand, since it is in the same unity of measurement of the target"
      ]
    },
    {
      "cell_type": "code",
      "execution_count": 63,
      "metadata": {
        "colab": {
          "base_uri": "https://localhost:8080/"
        },
        "id": "w9OXQPvEZafx",
        "outputId": "f8b5bb1c-16e1-4c0e-c4d5-a424853181fe",
        "scrolled": false
      },
      "outputs": [
        {
          "data": {
            "text/plain": [
              "0.4545994592395295"
            ]
          },
          "execution_count": 63,
          "metadata": {},
          "output_type": "execute_result"
        }
      ],
      "source": [
        "RMSE_one_feature = math.sqrt(MSE)\n",
        "RMSE_one_feature"
      ]
    },
    {
      "cell_type": "markdown",
      "metadata": {
        "id": "fbch3HutZaf0"
      },
      "source": [
        "#### Dependency on the training set\n",
        "\n",
        "If we change the training set, the model changes as well"
      ]
    },
    {
      "cell_type": "code",
      "execution_count": 64,
      "metadata": {
        "colab": {
          "base_uri": "https://localhost:8080/"
        },
        "id": "voSeuM5VZaf2",
        "outputId": "50f33ec0-b3ae-4bfa-c131-d7a19e72b379",
        "scrolled": false
      },
      "outputs": [
        {
          "name": "stdout",
          "output_type": "stream",
          "text": [
            "                            OLS Regression Results                            \n",
            "==============================================================================\n",
            "Dep. Variable:                      y   R-squared:                       0.166\n",
            "Model:                            OLS   Adj. R-squared:                  0.166\n",
            "Method:                 Least Squares   F-statistic:                     9833.\n",
            "Date:                Wed, 14 May 2025   Prob (F-statistic):               0.00\n",
            "Time:                        16:36:29   Log-Likelihood:                -31430.\n",
            "No. Observations:               49484   AIC:                         6.286e+04\n",
            "Df Residuals:                   49482   BIC:                         6.288e+04\n",
            "Df Model:                           1                                         \n",
            "Covariance Type:            nonrobust                                         \n",
            "===================================================================================\n",
            "                      coef    std err          t      P>|t|      [0.025      0.975]\n",
            "-----------------------------------------------------------------------------------\n",
            "intercept          -0.0182      0.006     -3.237      0.001      -0.029      -0.007\n",
            "Diabetes_binary     0.1828      0.002     99.162      0.000       0.179       0.186\n",
            "==============================================================================\n",
            "Omnibus:                  1128853.225   Durbin-Watson:                   2.014\n",
            "Prob(Omnibus):                  0.000   Jarque-Bera (JB):             3651.787\n",
            "Skew:                          -0.026   Prob(JB):                         0.00\n",
            "Kurtosis:                       1.670   Cond. No.                         9.14\n",
            "==============================================================================\n",
            "\n",
            "Notes:\n",
            "[1] Standard Errors assume that the covariance matrix of the errors is correctly specified.\n"
          ]
        }
      ],
      "source": [
        "df_train, df_test = train_test_split(df, test_size=0.3, random_state=2)\n",
        "\n",
        "X_train = df_train[['GenHlth'] ].values.reshape(-1,1)\n",
        "y_train = df_train['Diabetes_binary'].values\n",
        "X_test = df_test[[ 'GenHlth'] ].values.reshape(-1,1)\n",
        "y_test = df_test['Diabetes_binary'].values\n",
        "\n",
        "\n",
        "model.fit(X_train, y_train, column_names=['Diabetes_binary'])\n",
        "model.summary()"
      ]
    },
    {
      "cell_type": "markdown",
      "metadata": {
        "id": "t3gzpkAEZaf6"
      },
      "source": [
        "Note that the coefficients are different. Let's plot it"
      ]
    },
    {
      "cell_type": "code",
      "execution_count": 65,
      "metadata": {
        "colab": {
          "base_uri": "https://localhost:8080/",
          "height": 455
        },
        "id": "Tl9KxvO7Zaf6",
        "outputId": "98d6329e-bdd3-4aa1-c5a9-a2f2a13fd914",
        "scrolled": true
      },
      "outputs": [
        {
          "data": {
            "image/png": "[encoded data removed]",
            "text/plain": [
              "<Figure size 640x480 with 1 Axes>"
            ]
          },
          "execution_count": 65,
          "metadata": {},
          "output_type": "execute_result"
        }
      ],
      "source": [
        "h_values = model.predict(interval)\n",
        "\n",
        "ax.scatter(X_train,y_train,color='orange',s=1,\n",
        "           label=\"training samples [2]\")\n",
        "ax.plot(interval,h_values, label=\"Linear Regression (OLS) [2]\")\n",
        "ax.legend()\n",
        "fig"
      ]
    },
    {
      "cell_type": "markdown",
      "metadata": {
        "id": "bYbs1NQEZaf-"
      },
      "source": [
        "Let's train again a model on a different training set"
      ]
    },
    {
      "cell_type": "code",
      "execution_count": 66,
      "metadata": {
        "colab": {
          "base_uri": "https://localhost:8080/",
          "height": 455
        },
        "id": "llykKdz8ZagA",
        "outputId": "163e5d57-25ef-4a59-90ef-ad1c9f7b769f"
      },
      "outputs": [
        {
          "data": {
            "image/png": "[encoded data removed]",
            "text/plain": [
              "<Figure size 640x480 with 1 Axes>"
            ]
          },
          "execution_count": 66,
          "metadata": {},
          "output_type": "execute_result"
        }
      ],
      "source": [
        "df_train, df_test = train_test_split(df, test_size=0.3, random_state=3)\n",
        "\n",
        "X_train = df_train[['GenHlth'] ].values.reshape(-1,1)\n",
        "y_train = df_train['Diabetes_binary'].values\n",
        "X_test = df_test[[ 'GenHlth'] ].values.reshape(-1,1)\n",
        "y_test = df_test['Diabetes_binary'].values\n",
        "\n",
        "\n",
        "model.fit(X_train, y_train, column_names=['GenHlth'])\n",
        "h_values = model.predict(interval)\n",
        "ax.scatter(X_train,y_train,color='green',s=1,\n",
        "           label=\"training samples [3]\")\n",
        "ax.plot(interval,h_values, label=\"Linear Regression (OLS) [3]\")\n",
        "ax.legend()\n",
        "fig"
      ]
    },
    {
      "cell_type": "markdown",
      "metadata": {
        "id": "REbeolOgZagc"
      },
      "source": [
        "## Multivariate Linear Regression"
      ]
    },
    {
      "cell_type": "markdown",
      "metadata": {
        "id": "CdHfgvUBZage"
      },
      "source": [
        "Can we improve the test loss if we use other features?\n",
        "\n",
        "Have a first look at the more correlated features (see notebook on data exploration)"
      ]
    },
    {
      "cell_type": "code",
      "execution_count": 68,
      "metadata": {
        "colab": {
          "base_uri": "https://localhost:8080/"
        },
        "id": "DbWsM3UfZage",
        "outputId": "187e878c-f5d5-47ba-e3b6-d54bfe2f964a",
        "scrolled": false
      },
      "outputs": [
        {
          "data": {
            "text/plain": [
              "GenHlth          PhysHlth    0.552\n",
              "PhysHlth         DiffWalk    0.488\n",
              "GenHlth          DiffWalk    0.478\n",
              "Education        Income      0.466\n",
              "Diabetes_binary  GenHlth     0.408\n",
              "                             ...  \n",
              "Stroke           Sex         0.003\n",
              "AnyHealthcare    PhysHlth    0.001\n",
              "CholCheck        Veggies    -0.001\n",
              "Sex              Age        -0.001\n",
              "BMI              Sex         0.000\n",
              "Length: 231, dtype: float64"
            ]
          },
          "execution_count": 68,
          "metadata": {},
          "output_type": "execute_result"
        }
      ],
      "source": [
        "most_corr_feats = \\\n",
        "    feature_engineering.get_most_correlated(\n",
        "            df_train)\n",
        "most_corr_feats"
      ]
    },
    {
      "cell_type": "markdown",
      "metadata": {
        "id": "dNbHwND7Zagh"
      },
      "source": [
        "Let's add `Sex` among the regressors"
      ]
    },
    {
      "cell_type": "code",
      "execution_count": 70,
      "metadata": {
        "colab": {
          "base_uri": "https://localhost:8080/"
        },
        "id": "sjuycwtpZagi",
        "outputId": "7feb14a2-9129-4ed5-da51-2d96406aeb87",
        "scrolled": false
      },
      "outputs": [
        {
          "name": "stdout",
          "output_type": "stream",
          "text": [
            "                            OLS Regression Results                            \n",
            "==============================================================================\n",
            "Dep. Variable:                      y   R-squared:                       0.169\n",
            "Model:                            OLS   Adj. R-squared:                  0.169\n",
            "Method:                 Least Squares   F-statistic:                     5018.\n",
            "Date:                Wed, 14 May 2025   Prob (F-statistic):               0.00\n",
            "Time:                        16:45:13   Log-Likelihood:                -31346.\n",
            "No. Observations:               49484   AIC:                         6.270e+04\n",
            "Df Residuals:                   49481   BIC:                         6.272e+04\n",
            "Df Model:                           2                                         \n",
            "Covariance Type:            nonrobust                                         \n",
            "==============================================================================\n",
            "                 coef    std err          t      P>|t|      [0.025      0.975]\n",
            "------------------------------------------------------------------------------\n",
            "intercept     -0.0440      0.006     -7.390      0.000      -0.056      -0.032\n",
            "GenHlth        0.1836      0.002     99.645      0.000       0.180       0.187\n",
            "Sex            0.0505      0.004     12.278      0.000       0.042       0.059\n",
            "==============================================================================\n",
            "Omnibus:                   517096.522   Durbin-Watson:                   1.994\n",
            "Prob(Omnibus):                  0.000   Jarque-Bera (JB):             3614.842\n",
            "Skew:                          -0.026   Prob(JB):                         0.00\n",
            "Kurtosis:                       1.677   Cond. No.                         10.0\n",
            "==============================================================================\n",
            "\n",
            "Notes:\n",
            "[1] Standard Errors assume that the covariance matrix of the errors is correctly specified.\n"
          ]
        }
      ],
      "source": [
        "cols = ['GenHlth', 'Sex']\n",
        "\n",
        "# We do not need to reshape(-1,1) this time, as we\n",
        "# have a matrix with two columns now.\n",
        "X_train = df_train[cols ].values\n",
        "model = AndreaLinearRegression()\n",
        "model.fit(X_train, y_train, column_names=cols)\n",
        "model.summary()"
      ]
    },
    {
      "cell_type": "code",
      "execution_count": 71,
      "metadata": {
        "id": "Tmlixw1NZagl"
      },
      "outputs": [],
      "source": [
        "X_test = df_test[cols ].values\n",
        "y_pred = model.predict(X_test)"
      ]
    },
    {
      "cell_type": "code",
      "execution_count": 72,
      "metadata": {
        "colab": {
          "base_uri": "https://localhost:8080/"
        },
        "id": "FraeuQnEZago",
        "outputId": "2d1654c9-018d-47f6-d5c5-cd54a0c665ee"
      },
      "outputs": [
        {
          "name": "stdout",
          "output_type": "stream",
          "text": [
            "RMSE now:  0.4558501255110434 ; RMSE with one feature:  0.4565460724045748\n"
          ]
        }
      ],
      "source": [
        "MSE = mean_squared_error(y_test, y_pred)\n",
        "RMSE_some_features = math.sqrt(MSE)\n",
        "print('RMSE now: ', RMSE_some_features, '; RMSE with one feature: ',\n",
        "      RMSE_1_feature)"
      ]
    },
    {
      "cell_type": "markdown",
      "metadata": {
        "id": "eVU_kuFZZagr"
      },
      "source": [
        "We improved our RMSE by also considering `Sex` ... BUT ...\n",
        "\n",
        "**Attention**: Remember that start time is simply the time at which the experimenter who created the dataset had started each connection. The correlation between `StartTime` and the label is __artificial__, just because the experimenter first measured many low quality video sessions and then high quality. This would not be true in a real deployment\n",
        "\n",
        "\n",
        "**DO NOT BE OBSESSED BY REDUCING THE ERROR, AND LOOK AT THE MEANING OF FEATURES!**"
      ]
    },
    {
      "cell_type": "markdown",
      "metadata": {
        "id": "QpNpB1PwZaha"
      },
      "source": [
        "## Correct a bad model"
      ]
    },
    {
      "cell_type": "markdown",
      "metadata": {
        "id": "1k7jW9vEZahb"
      },
      "source": [
        "Note that no coefficient is significant (look at the p-value). The model is \"rubbish\"."
      ]
    },
    {
      "cell_type": "markdown",
      "metadata": {
        "id": "bzeEhcr-Zahc"
      },
      "source": [
        "\n",
        "\n",
        "Remember that\n",
        "$$\n",
        "    \\boldsymbol{\\theta}^* = (X^T X)^{-1} X^T \\textbf{y}\n",
        "$$\n",
        "\n",
        "Is $X^T X$ invertible?"
      ]
    },
    {
      "cell_type": "markdown",
      "metadata": {
        "id": "pM8WINYfZahc"
      },
      "source": [
        "### Constant features"
      ]
    },
    {
      "cell_type": "code",
      "execution_count": 74,
      "metadata": {},
      "outputs": [
        {
          "data": {
            "text/plain": [
              "Index(['Diabetes_binary', 'HighBP', 'HighChol', 'CholCheck', 'BMI', 'Smoker',\n",
              "       'Stroke', 'HeartDiseaseorAttack', 'PhysActivity', 'Fruits', 'Veggies',\n",
              "       'HvyAlcoholConsump', 'AnyHealthcare', 'NoDocbcCost', 'GenHlth',\n",
              "       'MentHlth', 'PhysHlth', 'DiffWalk', 'Sex', 'Age', 'Education',\n",
              "       'Income'],\n",
              "      dtype='object')"
            ]
          },
          "execution_count": 74,
          "metadata": {},
          "output_type": "execute_result"
        }
      ],
      "source": [
        "cols = df_train.select_dtypes([np.number]).columns\n",
        "cols"
      ]
    },
    {
      "cell_type": "code",
      "execution_count": 77,
      "metadata": {},
      "outputs": [],
      "source": [
        "cols = cols.drop(['Diabetes_binary', 'Education', 'Income' ] )"
      ]
    },
    {
      "cell_type": "code",
      "execution_count": 78,
      "metadata": {
        "colab": {
          "base_uri": "https://localhost:8080/"
        },
        "id": "ZyiWYWNDZahf",
        "outputId": "266648ce-d8f4-4886-a47f-61fece802395"
      },
      "outputs": [
        {
          "data": {
            "text/plain": [
              "['HighBP',\n",
              " 'HighChol',\n",
              " 'CholCheck',\n",
              " 'BMI',\n",
              " 'Smoker',\n",
              " 'Stroke',\n",
              " 'HeartDiseaseorAttack',\n",
              " 'PhysActivity',\n",
              " 'Fruits',\n",
              " 'Veggies',\n",
              " 'HvyAlcoholConsump',\n",
              " 'AnyHealthcare',\n",
              " 'NoDocbcCost',\n",
              " 'GenHlth',\n",
              " 'MentHlth',\n",
              " 'PhysHlth',\n",
              " 'DiffWalk',\n",
              " 'Sex',\n",
              " 'Age']"
            ]
          },
          "execution_count": 78,
          "metadata": {},
          "output_type": "execute_result"
        }
      ],
      "source": [
        "non_constant_features = \\\n",
        "    feature_engineering.low_var_features(df_train[cols], threshold=0)\n",
        "non_constant_features"
      ]
    },
    {
      "cell_type": "markdown",
      "metadata": {
        "id": "aWYkdm4J2xiA"
      },
      "source": [
        "The following function returns the features whose variance is above 0"
      ]
    },
    {
      "cell_type": "markdown",
      "metadata": {
        "id": "-2BEOjFKZahj"
      },
      "source": [
        "We must only use non-constant features"
      ]
    },
    {
      "cell_type": "code",
      "execution_count": 79,
      "metadata": {
        "colab": {
          "base_uri": "https://localhost:8080/"
        },
        "id": "SsgTyrozZahk",
        "outputId": "3a427875-db40-47c3-c836-36003f5e1bde",
        "scrolled": false
      },
      "outputs": [
        {
          "name": "stdout",
          "output_type": "stream",
          "text": [
            "                            OLS Regression Results                            \n",
            "==============================================================================\n",
            "Dep. Variable:                      y   R-squared:                       0.305\n",
            "Model:                            OLS   Adj. R-squared:                  0.305\n",
            "Method:                 Least Squares   F-statistic:                     1142.\n",
            "Date:                Wed, 14 May 2025   Prob (F-statistic):               0.00\n",
            "Time:                        16:52:32   Log-Likelihood:                -26919.\n",
            "No. Observations:               49484   AIC:                         5.388e+04\n",
            "Df Residuals:                   49464   BIC:                         5.405e+04\n",
            "Df Model:                          19                                         \n",
            "Covariance Type:            nonrobust                                         \n",
            "========================================================================================\n",
            "                           coef    std err          t      P>|t|      [0.025      0.975]\n",
            "----------------------------------------------------------------------------------------\n",
            "intercept               -0.6598      0.019    -35.188      0.000      -0.697      -0.623\n",
            "HighBP                   0.1603      0.004     36.435      0.000       0.152       0.169\n",
            "HighChol                 0.1100      0.004     26.962      0.000       0.102       0.118\n",
            "CholCheck                0.1582      0.012     12.822      0.000       0.134       0.182\n",
            "BMI                      0.0115      0.000     40.202      0.000       0.011       0.012\n",
            "Smoker                   0.0009      0.004      0.238      0.812      -0.007       0.009\n",
            "Stroke                   0.0295      0.008      3.620      0.000       0.014       0.045\n",
            "HeartDiseaseorAttack     0.0538      0.006      9.320      0.000       0.042       0.065\n",
            "PhysActivity            -0.0109      0.004     -2.472      0.013      -0.020      -0.002\n",
            "Fruits                  -0.0051      0.004     -1.258      0.208      -0.013       0.003\n",
            "Veggies                 -0.0183      0.005     -3.825      0.000      -0.028      -0.009\n",
            "HvyAlcoholConsump       -0.1360      0.009    -14.506      0.000      -0.154      -0.118\n",
            "AnyHealthcare           -0.0058      0.009     -0.618      0.537      -0.024       0.013\n",
            "NoDocbcCost              0.0057      0.007      0.832      0.405      -0.008       0.019\n",
            "GenHlth                  0.1103      0.002     48.568      0.000       0.106       0.115\n",
            "MentHlth                -0.0009      0.000     -3.484      0.000      -0.001      -0.000\n",
            "PhysHlth                -0.0014      0.000     -5.635      0.000      -0.002      -0.001\n",
            "DiffWalk                 0.0347      0.005      6.442      0.000       0.024       0.045\n",
            "Sex                      0.0360      0.004      9.296      0.000       0.028       0.044\n",
            "Age                      0.0246      0.001     32.377      0.000       0.023       0.026\n",
            "==============================================================================\n",
            "Omnibus:                     5732.031   Durbin-Watson:                   1.994\n",
            "Prob(Omnibus):                  0.000   Jarque-Bera (JB):             1711.926\n",
            "Skew:                          -0.154   Prob(JB):                         0.00\n",
            "Kurtosis:                       2.142   Cond. No.                         364.\n",
            "==============================================================================\n",
            "\n",
            "Notes:\n",
            "[1] Standard Errors assume that the covariance matrix of the errors is correctly specified.\n"
          ]
        }
      ],
      "source": [
        "X_train = df_train[non_constant_features].values\n",
        "X_test = df_test[non_constant_features].values\n",
        "\n",
        "model = AndreaLinearRegression()\n",
        "model.fit(X_train, y_train, column_names=non_constant_features)\n",
        "model.summary()"
      ]
    },
    {
      "cell_type": "markdown",
      "metadata": {
        "id": "BYgecGCQZahm"
      },
      "source": [
        "The warnings disappear. Still, coefficients are no significant"
      ]
    },
    {
      "cell_type": "code",
      "execution_count": 80,
      "metadata": {
        "colab": {
          "base_uri": "https://localhost:8080/"
        },
        "id": "XLcXagAQZahn",
        "outputId": "a03b216f-2f6f-4a0e-f026-fa46b7d9e195"
      },
      "outputs": [
        {
          "name": "stdout",
          "output_type": "stream",
          "text": [
            "RMSE:  0.41452803564044555\n"
          ]
        }
      ],
      "source": [
        "y_pred = model.predict(X_test)\n",
        "RMSE = math.sqrt(mean_squared_error(y_test, y_pred))\n",
        "print('RMSE: ', RMSE)"
      ]
    },
    {
      "cell_type": "markdown",
      "metadata": {
        "id": "2Y_2YDsSZahq"
      },
      "source": [
        "We improved a bit, but the performance is still bad."
      ]
    },
    {
      "cell_type": "markdown",
      "metadata": {
        "id": "lx_CPTiMZahs"
      },
      "source": [
        "### Collinearity"
      ]
    },
    {
      "cell_type": "markdown",
      "metadata": {
        "id": "EsS_dI4bZaht"
      },
      "source": [
        "Let's check the most correlated features"
      ]
    },
    {
      "cell_type": "code",
      "execution_count": 81,
      "metadata": {
        "colab": {
          "base_uri": "https://localhost:8080/"
        },
        "id": "7ubrLajeZahu",
        "outputId": "d630bc24-f52d-48c7-cdb7-5ae06f33c213"
      },
      "outputs": [
        {
          "data": {
            "text/plain": [
              "GenHlth        PhysHlth    0.552\n",
              "PhysHlth       DiffWalk    0.488\n",
              "GenHlth        DiffWalk    0.478\n",
              "MentHlth       PhysHlth    0.379\n",
              "HighBP         Age         0.338\n",
              "                           ...  \n",
              "CholCheck      Smoker     -0.003\n",
              "               Veggies    -0.001\n",
              "AnyHealthcare  PhysHlth    0.001\n",
              "Sex            Age        -0.001\n",
              "BMI            Sex         0.000\n",
              "Length: 171, dtype: float64"
            ]
          },
          "execution_count": 81,
          "metadata": {},
          "output_type": "execute_result"
        }
      ],
      "source": [
        "most_corr_feats = \\\n",
        "    feature_engineering.get_most_correlated(\n",
        "            df_train[non_constant_features])\n",
        "most_corr_feats"
      ]
    },
    {
      "cell_type": "markdown",
      "metadata": {
        "id": "wmECMMzIZahz"
      },
      "source": [
        "As expected, packets received/set and bytes received/set are highly correlated. Also the variables transformed to log are correlated with the original ones. We can remove the original ones. If we have KBytes, we can remove Bytes"
      ]
    },
    {
      "cell_type": "code",
      "execution_count": 82,
      "metadata": {
        "colab": {
          "base_uri": "https://localhost:8080/"
        },
        "id": "UnHxjL7zZah1",
        "outputId": "50691868-536a-44ef-e23a-34ebb428b324",
        "scrolled": true
      },
      "outputs": [
        {
          "name": "stdout",
          "output_type": "stream",
          "text": [
            "                            OLS Regression Results                            \n",
            "==============================================================================\n",
            "Dep. Variable:                      y   R-squared:                       0.304\n",
            "Model:                            OLS   Adj. R-squared:                  0.304\n",
            "Method:                 Least Squares   F-statistic:                     1202.\n",
            "Date:                Wed, 14 May 2025   Prob (F-statistic):               0.00\n",
            "Time:                        16:54:36   Log-Likelihood:                -26940.\n",
            "No. Observations:               49484   AIC:                         5.392e+04\n",
            "Df Residuals:                   49465   BIC:                         5.409e+04\n",
            "Df Model:                          18                                         \n",
            "Covariance Type:            nonrobust                                         \n",
            "========================================================================================\n",
            "                           coef    std err          t      P>|t|      [0.025      0.975]\n",
            "----------------------------------------------------------------------------------------\n",
            "intercept               -0.6729      0.019    -36.084      0.000      -0.709      -0.636\n",
            "HighBP                   0.1608      0.004     36.546      0.000       0.152       0.169\n",
            "HighChol                 0.1097      0.004     26.881      0.000       0.102       0.118\n",
            "CholCheck                0.1583      0.012     12.823      0.000       0.134       0.182\n",
            "BMI                      0.0118      0.000     41.537      0.000       0.011       0.012\n",
            "Smoker                   0.0017      0.004      0.428      0.669      -0.006       0.009\n",
            "Stroke                   0.0333      0.008      4.101      0.000       0.017       0.049\n",
            "HeartDiseaseorAttack     0.0565      0.006      9.820      0.000       0.045       0.068\n",
            "PhysActivity            -0.0142      0.004     -3.231      0.001      -0.023      -0.006\n",
            "Fruits                  -0.0050      0.004     -1.250      0.211      -0.013       0.003\n",
            "Veggies                 -0.0187      0.005     -3.904      0.000      -0.028      -0.009\n",
            "HvyAlcoholConsump       -0.1367      0.009    -14.574      0.000      -0.155      -0.118\n",
            "AnyHealthcare           -0.0050      0.009     -0.528      0.598      -0.024       0.014\n",
            "NoDocbcCost              0.0076      0.007      1.112      0.266      -0.006       0.021\n",
            "GenHlth                  0.1128      0.002     50.399      0.000       0.108       0.117\n",
            "MentHlth                -0.0008      0.000     -3.138      0.002      -0.001      -0.000\n",
            "PhysHlth                -0.0009      0.000     -4.062      0.000      -0.001      -0.000\n",
            "Sex                      0.0341      0.004      8.823      0.000       0.027       0.042\n",
            "Age                      0.0253      0.001     33.464      0.000       0.024       0.027\n",
            "==============================================================================\n",
            "Omnibus:                     5853.640   Durbin-Watson:                   1.993\n",
            "Prob(Omnibus):                  0.000   Jarque-Bera (JB):             1737.806\n",
            "Skew:                          -0.158   Prob(JB):                         0.00\n",
            "Kurtosis:                       2.138   Cond. No.                         362.\n",
            "==============================================================================\n",
            "\n",
            "Notes:\n",
            "[1] Standard Errors assume that the covariance matrix of the errors is correctly specified.\n"
          ]
        }
      ],
      "source": [
        "to_remove = ['DiffWalk',\n",
        "            ]\n",
        "\n",
        "# Take from non_constant_features all the features except the ones in\n",
        "# to_remove\n",
        "cols_1 = []\n",
        "for feat in non_constant_features:\n",
        "    if feat not in to_remove:\n",
        "        cols_1.append(feat)\n",
        "\n",
        "\n",
        "X_train = df_train[cols_1].values\n",
        "X_test = df_test[cols_1].values\n",
        "model = AndreaLinearRegression()\n",
        "model.fit(X_train, y_train, column_names=cols_1)\n",
        "model.summary()"
      ]
    },
    {
      "cell_type": "code",
      "execution_count": 83,
      "metadata": {
        "colab": {
          "base_uri": "https://localhost:8080/"
        },
        "id": "8n70GVWyZah3",
        "outputId": "ceb5d8e4-64da-4f17-e6da-1ce86d319886",
        "scrolled": false
      },
      "outputs": [
        {
          "name": "stdout",
          "output_type": "stream",
          "text": [
            "RMSE:  0.41477710712085836 ; RMSE with one feature:  0.4545994592395295\n"
          ]
        }
      ],
      "source": [
        "y_pred = model.predict(X_test)\n",
        "RMSE = math.sqrt(mean_squared_error(y_test, y_pred))\n",
        "print('RMSE: ', RMSE, '; RMSE with one feature: ',\n",
        "      RMSE_one_feature)"
      ]
    },
    {
      "cell_type": "markdown",
      "metadata": {
        "id": "i2PCkKiZZah5"
      },
      "source": [
        "After removing the most correlated features, the model improved a bit. Still, the model with one feature only is better.\n",
        "\n",
        "Let's check the correlation among the remaining features."
      ]
    },
    {
      "cell_type": "code",
      "execution_count": 84,
      "metadata": {
        "colab": {
          "base_uri": "https://localhost:8080/"
        },
        "id": "arQu57dPZah5",
        "outputId": "86ef4703-c3cf-499a-9f2a-cac431201bc5"
      },
      "outputs": [
        {
          "data": {
            "text/plain": [
              "GenHlth        PhysHlth    0.552\n",
              "MentHlth       PhysHlth    0.379\n",
              "HighBP         Age         0.338\n",
              "               GenHlth     0.321\n",
              "               HighChol    0.316\n",
              "                           ...  \n",
              "Stroke         Sex         0.003\n",
              "AnyHealthcare  PhysHlth    0.001\n",
              "CholCheck      Veggies    -0.001\n",
              "Sex            Age        -0.001\n",
              "BMI            Sex         0.000\n",
              "Length: 153, dtype: float64"
            ]
          },
          "execution_count": 84,
          "metadata": {},
          "output_type": "execute_result"
        }
      ],
      "source": [
        "most_corr_feats = \\\n",
        "    feature_engineering.get_most_correlated(df_train[cols_1])\n",
        "most_corr_feats"
      ]
    },
    {
      "cell_type": "markdown",
      "metadata": {
        "id": "UhqiOmqmZah8"
      },
      "source": [
        "Let's remove all the features regarding Packets (as they are highly correlated with Bytes). Still, preserve the ones that have high correlation with the target."
      ]
    },
    {
      "cell_type": "code",
      "execution_count": 85,
      "metadata": {
        "colab": {
          "base_uri": "https://localhost:8080/"
        },
        "id": "119h9DifZah9",
        "outputId": "6756e6b2-05ea-4105-815f-f4840581c1c4"
      },
      "outputs": [
        {
          "data": {
            "text/plain": [
              "Diabetes_binary         1.00\n",
              "GenHlth                 0.41\n",
              "HighBP                  0.38\n",
              "BMI                     0.29\n",
              "HighChol                0.29\n",
              "Age                     0.28\n",
              "PhysHlth                0.22\n",
              "HeartDiseaseorAttack    0.21\n",
              "PhysActivity           -0.16\n",
              "Stroke                  0.13\n",
              "CholCheck               0.11\n",
              "MentHlth                0.09\n",
              "Smoker                  0.09\n",
              "HvyAlcoholConsump      -0.09\n",
              "Veggies                -0.08\n",
              "Fruits                 -0.05\n",
              "NoDocbcCost             0.04\n",
              "Sex                     0.04\n",
              "AnyHealthcare           0.02\n",
              "Name: Diabetes_binary, dtype: float64"
            ]
          },
          "execution_count": 85,
          "metadata": {},
          "output_type": "execute_result"
        }
      ],
      "source": [
        "feature_engineering.get_features_correlated_to_target(\n",
        "                    df_train[cols_1+['Diabetes_binary']], 'Diabetes_binary')"
      ]
    },
    {
      "cell_type": "markdown",
      "metadata": {
        "id": "-icK5AaTZaiE"
      },
      "source": [
        "The significance of some features is reinforced, but in general significance is weak."
      ]
    },
    {
      "cell_type": "code",
      "execution_count": 86,
      "metadata": {
        "colab": {
          "base_uri": "https://localhost:8080/"
        },
        "id": "JMOdDU0OZaiE",
        "outputId": "1a1a5c33-d3d2-4ac1-fb06-de98892bb47f"
      },
      "outputs": [
        {
          "name": "stdout",
          "output_type": "stream",
          "text": [
            "RMSE:  0.41477710712085836 ; RMSE with one feature:  0.4545994592395295\n"
          ]
        }
      ],
      "source": [
        "y_pred = model.predict(X_test)\n",
        "RMSE = math.sqrt(mean_squared_error(y_test, y_pred))\n",
        "print('RMSE: ', RMSE, '; RMSE with one feature: ',\n",
        "      RMSE_one_feature)"
      ]
    },
    {
      "cell_type": "markdown",
      "metadata": {
        "id": "14X2Y8rLZaiH"
      },
      "source": [
        "Performance is still bad. Let's remove other highly correlated features."
      ]
    },
    {
      "cell_type": "code",
      "execution_count": 88,
      "metadata": {
        "colab": {
          "base_uri": "https://localhost:8080/"
        },
        "id": "Gp0wHSjaZaiI",
        "outputId": "e828320f-6cf6-4212-d5a4-5f2dc5b5968c"
      },
      "outputs": [
        {
          "data": {
            "text/plain": [
              "GenHlth        PhysHlth    0.552\n",
              "MentHlth       PhysHlth    0.379\n",
              "HighBP         Age         0.338\n",
              "               GenHlth     0.321\n",
              "               HighChol    0.316\n",
              "                           ...  \n",
              "Stroke         Sex         0.003\n",
              "AnyHealthcare  PhysHlth    0.001\n",
              "CholCheck      Veggies    -0.001\n",
              "Sex            Age        -0.001\n",
              "BMI            Sex         0.000\n",
              "Length: 153, dtype: float64"
            ]
          },
          "execution_count": 88,
          "metadata": {},
          "output_type": "execute_result"
        }
      ],
      "source": [
        "most_corr_feats = \\\n",
        "    feature_engineering.get_most_correlated(df_train[cols_1])\n",
        "most_corr_feats"
      ]
    },
    {
      "cell_type": "code",
      "execution_count": 89,
      "metadata": {},
      "outputs": [
        {
          "data": {
            "text/plain": [
              "['HighBP',\n",
              " 'HighChol',\n",
              " 'CholCheck',\n",
              " 'BMI',\n",
              " 'Smoker',\n",
              " 'Stroke',\n",
              " 'HeartDiseaseorAttack',\n",
              " 'PhysActivity',\n",
              " 'Fruits',\n",
              " 'Veggies',\n",
              " 'HvyAlcoholConsump',\n",
              " 'AnyHealthcare',\n",
              " 'NoDocbcCost',\n",
              " 'GenHlth',\n",
              " 'MentHlth',\n",
              " 'PhysHlth',\n",
              " 'Sex',\n",
              " 'Age']"
            ]
          },
          "execution_count": 89,
          "metadata": {},
          "output_type": "execute_result"
        }
      ],
      "source": [
        "cols_1"
      ]
    },
    {
      "cell_type": "markdown",
      "metadata": {
        "id": "1_VuwwSkZaiO"
      },
      "source": [
        "# Cross-validation"
      ]
    },
    {
      "cell_type": "markdown",
      "metadata": {
        "id": "boUcestCZaiP"
      },
      "source": [
        "Are we sure the model with these last features is the best? Or the good results just depend on the training/test set split?"
      ]
    },
    {
      "cell_type": "code",
      "execution_count": 90,
      "metadata": {
        "colab": {
          "base_uri": "https://localhost:8080/"
        },
        "id": "xFycwXnoZaiQ",
        "outputId": "c80ab64c-0a0d-4e26-8ef1-db2e983bcb39",
        "scrolled": true
      },
      "outputs": [
        {
          "data": {
            "text/plain": [
              "array([-0.17351396, -0.17365673, -0.17465022, -0.17064074, -0.17477991])"
            ]
          },
          "execution_count": 90,
          "metadata": {},
          "output_type": "execute_result"
        }
      ],
      "source": [
        "X = df[cols_1].values\n",
        "y = df['Diabetes_binary'].values\n",
        "\n",
        "\n",
        "k_fold = KFold(n_splits=5, shuffle=True, random_state=6)\n",
        "\n",
        "# Cross validation works with score, i.e., the higher the better.\n",
        "# This is why the scoring function is the negative Mean Squared Error.\n",
        "scores = cross_val_score(AndreaLinearRegression(),\n",
        "                X, y, cv=k_fold,\n",
        "                scoring='neg_mean_squared_error')\n",
        "scores"
      ]
    },
    {
      "cell_type": "code",
      "execution_count": 91,
      "metadata": {
        "colab": {
          "base_uri": "https://localhost:8080/"
        },
        "id": "8wgPEFnAZaiT",
        "outputId": "b5a96bba-1772-4fd2-918a-855dd9a6dd66"
      },
      "outputs": [
        {
          "data": {
            "text/plain": [
              "array([0.17351396, 0.17365673, 0.17465022, 0.17064074, 0.17477991])"
            ]
          },
          "execution_count": 91,
          "metadata": {},
          "output_type": "execute_result"
        }
      ],
      "source": [
        "mse_vector = -scores\n",
        "mse_vector"
      ]
    },
    {
      "cell_type": "code",
      "execution_count": 92,
      "metadata": {
        "colab": {
          "base_uri": "https://localhost:8080/"
        },
        "id": "cWcr7wm1ZaiV",
        "outputId": "7ee1148a-907b-43ba-89e1-84127c540015"
      },
      "outputs": [
        {
          "data": {
            "text/plain": [
              "np.float64(0.17344831288258294)"
            ]
          },
          "execution_count": 92,
          "metadata": {},
          "output_type": "execute_result"
        }
      ],
      "source": [
        "avg_mse = mean(mse_vector)\n",
        "avg_mse"
      ]
    },
    {
      "cell_type": "code",
      "execution_count": 93,
      "metadata": {
        "colab": {
          "base_uri": "https://localhost:8080/"
        },
        "id": "TSIs1DqAZaiX",
        "outputId": "1c0f022f-f359-4ab5-f0a5-e17cac024807",
        "scrolled": true
      },
      "outputs": [
        {
          "data": {
            "text/plain": [
              "0.41647126297330883"
            ]
          },
          "execution_count": 93,
          "metadata": {},
          "output_type": "execute_result"
        }
      ],
      "source": [
        "math.sqrt(avg_mse)"
      ]
    },
    {
      "cell_type": "markdown",
      "metadata": {
        "id": "c6_W2Fj2Zaia"
      },
      "source": [
        "Let's try with one feature only"
      ]
    },
    {
      "cell_type": "code",
      "execution_count": 94,
      "metadata": {
        "colab": {
          "base_uri": "https://localhost:8080/"
        },
        "id": "Tn1lase_Zaia",
        "outputId": "1d061f92-63c2-41ea-a6d3-98d88d66c6d2"
      },
      "outputs": [
        {
          "data": {
            "text/plain": [
              "0.4565887946063674"
            ]
          },
          "execution_count": 94,
          "metadata": {},
          "output_type": "execute_result"
        }
      ],
      "source": [
        "X = df['GenHlth'].values.reshape(-1,1)\n",
        "\n",
        "\n",
        "\n",
        "scores = cross_val_score(AndreaLinearRegression(),\n",
        "                X, y, cv=k_fold,\n",
        "                scoring='neg_mean_squared_error')\n",
        "math.sqrt( mean(-scores) )"
      ]
    }
  ],
  "metadata": {
    "colab": {
      "name": "a.regression.ipynb",
      "provenance": []
    },
    "kernelspec": {
      "display_name": "Python 3",
      "language": "python",
      "name": "python3"
    },
    "language_info": {
      "codemirror_mode": {
        "name": "ipython",
        "version": 3
      },
      "file_extension": ".py",
      "mimetype": "text/x-python",
      "name": "python",
      "nbconvert_exporter": "python",
      "pygments_lexer": "ipython3",
      "version": "3.13.1"
    }
  },
  "nbformat": 4,
  "nbformat_minor": 0
}
