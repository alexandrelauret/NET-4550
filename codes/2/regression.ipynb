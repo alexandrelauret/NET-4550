{
 "cells": [
  {
   "cell_type": "code",
   "execution_count": 2,
   "id": "daf02687",
   "metadata": {},
   "outputs": [
    {
     "name": "stdout",
     "output_type": "stream",
     "text": [
      "   Diabetes_binary  HighBP  HighChol  CholCheck   BMI  Smoker  Stroke  \\\n",
      "0              0.0     1.0       0.0        1.0  26.0     0.0     0.0   \n",
      "1              0.0     1.0       1.0        1.0  26.0     1.0     1.0   \n",
      "2              0.0     0.0       0.0        1.0  26.0     0.0     0.0   \n",
      "3              0.0     1.0       1.0        1.0  28.0     1.0     0.0   \n",
      "4              0.0     0.0       0.0        1.0  29.0     1.0     0.0   \n",
      "\n",
      "   HeartDiseaseorAttack  PhysActivity  Fruits  ...  AnyHealthcare  \\\n",
      "0                   0.0           1.0     0.0  ...            1.0   \n",
      "1                   0.0           0.0     1.0  ...            1.0   \n",
      "2                   0.0           1.0     1.0  ...            1.0   \n",
      "3                   0.0           1.0     1.0  ...            1.0   \n",
      "4                   0.0           1.0     1.0  ...            1.0   \n",
      "\n",
      "   NoDocbcCost  GenHlth  MentHlth  PhysHlth  DiffWalk  Sex   Age  Education  \\\n",
      "0          0.0      3.0       5.0      30.0       0.0  1.0   4.0        6.0   \n",
      "1          0.0      3.0       0.0       0.0       0.0  1.0  12.0        6.0   \n",
      "2          0.0      1.0       0.0      10.0       0.0  1.0  13.0        6.0   \n",
      "3          0.0      3.0       0.0       3.0       0.0  1.0  11.0        6.0   \n",
      "4          0.0      2.0       0.0       0.0       0.0  0.0   8.0        5.0   \n",
      "\n",
      "   Income  \n",
      "0     8.0  \n",
      "1     8.0  \n",
      "2     8.0  \n",
      "3     8.0  \n",
      "4     8.0  \n",
      "\n",
      "[5 rows x 22 columns]\n"
     ]
    }
   ],
   "source": [
    "import pandas as pd # For dataframes (tables)\n",
    "import numpy as np # For arange\n",
    "import matplotlib.pyplot as plt # For plots\n",
    "%matplotlib inline\n",
    "from sklearn.model_selection import train_test_split\n",
    "from sklearn.metrics import mean_squared_error\n",
    "import math # for sqrt\n",
    "from sklearn.model_selection import cross_val_score, KFold\n",
    "import pickle # to serialize/deserialize objects\n",
    "\n",
    "from statistics import mean\n",
    "\n",
    "from andrea_models import AndreaLinearRegression # In the course library\n",
    "import feature_engineering # From the course library\n",
    "\n",
    "# Load the CSV file\n",
    "csv_file = \"diabetes_binary_5050split_health_indicators_BRFSS2015.csv\"\n",
    "data = pd.read_csv(csv_file, sep=',')\n",
    "\n",
    "print(data.head())"
   ]
  },
  {
   "cell_type": "code",
   "execution_count": 3,
   "id": "7cd20619",
   "metadata": {},
   "outputs": [],
   "source": [
    "for col in ['BMI', 'PhysHlth', 'MentHlth']:\n",
    "    data[f'log_{col}'] = np.log1p(data[col])"
   ]
  },
  {
   "cell_type": "code",
   "execution_count": 4,
   "id": "a5c71977",
   "metadata": {},
   "outputs": [],
   "source": [
    "data_train, data_test = train_test_split(data, test_size=0.3)\n",
    "\n",
    "\n",
    "# Scikit learn models expect matrices. We first transform\n",
    "# the dataframe into an array\n",
    "X_train = data_train[['GenHlth'] ].values\n",
    "\n",
    "# Scikit learn models expect matrices with multiple\n",
    "# rows and columns as X. X_train has instead just one column\n",
    "# ==> The following code is necessary\n",
    "X_train = X_train.reshape(-1,1)\n",
    "\n",
    "y_train = data_train['Diabetes_binary'].values\n",
    "\n",
    "\n",
    "# Do the same for the test dataset\n",
    "X_test = data_test[[ 'GenHlth'] ].values.reshape(-1,1)\n",
    "y_test = data_test['Diabetes_binary'].values\n",
    "\n"
   ]
  },
  {
   "cell_type": "code",
   "execution_count": 5,
   "id": "cfd48975",
   "metadata": {},
   "outputs": [
    {
     "name": "stdout",
     "output_type": "stream",
     "text": [
      "                            OLS Regression Results                            \n",
      "==============================================================================\n",
      "Dep. Variable:                      y   R-squared:                       0.168\n",
      "Model:                            OLS   Adj. R-squared:                  0.168\n",
      "Method:                 Least Squares   F-statistic:                     9989.\n",
      "Date:                Mon, 12 May 2025   Prob (F-statistic):               0.00\n",
      "Time:                        21:19:56   Log-Likelihood:                -31366.\n",
      "No. Observations:               49484   AIC:                         6.274e+04\n",
      "Df Residuals:                   49482   BIC:                         6.275e+04\n",
      "Df Model:                           1                                         \n",
      "Covariance Type:            nonrobust                                         \n",
      "==============================================================================\n",
      "                 coef    std err          t      P>|t|      [0.025      0.975]\n",
      "------------------------------------------------------------------------------\n",
      "intercept     -0.0220      0.006     -3.924      0.000      -0.033      -0.011\n",
      "GenHlth        0.1840      0.002     99.943      0.000       0.180       0.188\n",
      "==============================================================================\n",
      "Omnibus:                   485800.120   Durbin-Watson:                   2.001\n",
      "Prob(Omnibus):                  0.000   Jarque-Bera (JB):             3609.269\n",
      "Skew:                          -0.024   Prob(JB):                         0.00\n",
      "Kurtosis:                       1.678   Cond. No.                         9.12\n",
      "==============================================================================\n",
      "\n",
      "Notes:\n",
      "[1] Standard Errors assume that the covariance matrix of the errors is correctly specified.\n"
     ]
    }
   ],
   "source": [
    "model = AndreaLinearRegression()\n",
    "model.fit(X_train, y_train, column_names=['GenHlth'])\n",
    "model.summary()"
   ]
  },
  {
   "cell_type": "code",
   "execution_count": 6,
   "id": "faeb4871",
   "metadata": {},
   "outputs": [
    {
     "data": {
      "image/png": "[encoded data removed]",
      "text/plain": [
       "<Figure size 640x480 with 1 Axes>"
      ]
     },
     "metadata": {},
     "output_type": "display_data"
    }
   ],
   "source": [
    "plt.scatter(data['GenHlth'], data['Diabetes_binary'], alpha=0.5)\n",
    "plt.xlabel('GenHlth')\n",
    "plt.ylabel('Diabetes_binary')\n",
    "plt.title('Scatter Plot: GenHlth vs Diabetes_binary')\n",
    "plt.show()"
   ]
  },
  {
   "cell_type": "code",
   "execution_count": 7,
   "id": "ed48a57b",
   "metadata": {},
   "outputs": [
    {
     "name": "stdout",
     "output_type": "stream",
     "text": [
      "[0.52990684 0.52990684 0.3459347  0.3459347 ]\n"
     ]
    }
   ],
   "source": [
    "# Générer des exemples de valeurs pour \"GenHlth\"\n",
    "newGenHlthSamples = data_train['GenHlth'].sample(4).values.reshape(-1, 1)\n",
    "\n",
    "# Prédire les étiquettes avec le modèle\n",
    "predicted_values = model.predict(newGenHlthSamples)\n",
    "print(predicted_values)"
   ]
  },
  {
   "cell_type": "code",
   "execution_count": 8,
   "id": "4e51622a",
   "metadata": {},
   "outputs": [
    {
     "data": {
      "text/plain": [
       "<matplotlib.legend.Legend at 0x77d29f994740>"
      ]
     },
     "execution_count": 8,
     "metadata": {},
     "output_type": "execute_result"
    },
    {
     "data": {
      "image/png": "[encoded data removed]",
      "text/plain": [
       "<Figure size 640x480 with 1 Axes>"
      ]
     },
     "metadata": {},
     "output_type": "display_data"
    }
   ],
   "source": [
    "fig, ax = plt.subplots() # This creates just a canvas\n",
    "\n",
    "ax.scatter(X_train,y_train,color='blue',s=1,\n",
    "           label=\"training samples\")\n",
    "\n",
    "ax.plot(newGenHlthSamples,predicted_values, label=\"Linear Regression (OLS)\")\n",
    "ax.legend()\n"
   ]
  },
  {
   "cell_type": "code",
   "execution_count": 9,
   "id": "5499ea14",
   "metadata": {},
   "outputs": [
    {
     "data": {
      "application/vnd.microsoft.datawrangler.viewer.v0+json": {
       "columns": [
        {
         "name": "index",
         "rawType": "int64",
         "type": "integer"
        },
        {
         "name": "true",
         "rawType": "float64",
         "type": "float"
        },
        {
         "name": "pred",
         "rawType": "float64",
         "type": "float"
        }
       ],
       "conversionMethod": "pd.DataFrame",
       "ref": "e4e70a46-b223-41a4-a77b-464d455af33a",
       "rows": [
        [
         "0",
         "0.0",
         "0.7138789902702039"
        ],
        [
         "1",
         "0.0",
         "0.3459346978991989"
        ],
        [
         "2",
         "0.0",
         "0.1619625517136964"
        ],
        [
         "3",
         "0.0",
         "0.5299068440847013"
        ],
        [
         "4",
         "1.0",
         "0.3459346978991989"
        ],
        [
         "5",
         "0.0",
         "0.3459346978991989"
        ],
        [
         "6",
         "1.0",
         "0.5299068440847013"
        ],
        [
         "7",
         "0.0",
         "0.3459346978991989"
        ],
        [
         "8",
         "1.0",
         "0.7138789902702039"
        ],
        [
         "9",
         "1.0",
         "0.5299068440847013"
        ],
        [
         "10",
         "1.0",
         "0.5299068440847013"
        ],
        [
         "11",
         "1.0",
         "0.8978511364557064"
        ],
        [
         "12",
         "1.0",
         "0.7138789902702039"
        ],
        [
         "13",
         "1.0",
         "0.7138789902702039"
        ],
        [
         "14",
         "1.0",
         "0.3459346978991989"
        ],
        [
         "15",
         "0.0",
         "0.3459346978991989"
        ],
        [
         "16",
         "1.0",
         "0.7138789902702039"
        ],
        [
         "17",
         "1.0",
         "0.3459346978991989"
        ],
        [
         "18",
         "0.0",
         "0.5299068440847013"
        ],
        [
         "19",
         "0.0",
         "0.5299068440847013"
        ],
        [
         "20",
         "0.0",
         "0.3459346978991989"
        ],
        [
         "21",
         "0.0",
         "0.3459346978991989"
        ],
        [
         "22",
         "1.0",
         "0.7138789902702039"
        ],
        [
         "23",
         "0.0",
         "0.5299068440847013"
        ],
        [
         "24",
         "1.0",
         "0.3459346978991989"
        ],
        [
         "25",
         "1.0",
         "0.5299068440847013"
        ],
        [
         "26",
         "1.0",
         "0.7138789902702039"
        ],
        [
         "27",
         "0.0",
         "0.8978511364557064"
        ],
        [
         "28",
         "1.0",
         "0.1619625517136964"
        ],
        [
         "29",
         "0.0",
         "0.3459346978991989"
        ],
        [
         "30",
         "0.0",
         "0.3459346978991989"
        ],
        [
         "31",
         "0.0",
         "0.7138789902702039"
        ],
        [
         "32",
         "1.0",
         "0.7138789902702039"
        ],
        [
         "33",
         "1.0",
         "0.8978511364557064"
        ],
        [
         "34",
         "0.0",
         "0.5299068440847013"
        ],
        [
         "35",
         "1.0",
         "0.7138789902702039"
        ],
        [
         "36",
         "1.0",
         "0.5299068440847013"
        ],
        [
         "37",
         "1.0",
         "0.7138789902702039"
        ],
        [
         "38",
         "1.0",
         "0.5299068440847013"
        ],
        [
         "39",
         "1.0",
         "0.8978511364557064"
        ],
        [
         "40",
         "1.0",
         "0.8978511364557064"
        ],
        [
         "41",
         "1.0",
         "0.3459346978991989"
        ],
        [
         "42",
         "1.0",
         "0.5299068440847013"
        ],
        [
         "43",
         "1.0",
         "0.5299068440847013"
        ],
        [
         "44",
         "1.0",
         "0.7138789902702039"
        ],
        [
         "45",
         "1.0",
         "0.7138789902702039"
        ],
        [
         "46",
         "0.0",
         "0.5299068440847013"
        ],
        [
         "47",
         "0.0",
         "0.3459346978991989"
        ],
        [
         "48",
         "0.0",
         "0.3459346978991989"
        ],
        [
         "49",
         "1.0",
         "0.1619625517136964"
        ]
       ],
       "shape": {
        "columns": 2,
        "rows": 21208
       }
      },
      "text/html": [
       "<div>\n",
       "<style scoped>\n",
       "    .dataframe tbody tr th:only-of-type {\n",
       "        vertical-align: middle;\n",
       "    }\n",
       "\n",
       "    .dataframe tbody tr th {\n",
       "        vertical-align: top;\n",
       "    }\n",
       "\n",
       "    .dataframe thead th {\n",
       "        text-align: right;\n",
       "    }\n",
       "</style>\n",
       "<table border=\"1\" class=\"dataframe\">\n",
       "  <thead>\n",
       "    <tr style=\"text-align: right;\">\n",
       "      <th></th>\n",
       "      <th>true</th>\n",
       "      <th>pred</th>\n",
       "    </tr>\n",
       "  </thead>\n",
       "  <tbody>\n",
       "    <tr>\n",
       "      <th>0</th>\n",
       "      <td>0.0</td>\n",
       "      <td>0.713879</td>\n",
       "    </tr>\n",
       "    <tr>\n",
       "      <th>1</th>\n",
       "      <td>0.0</td>\n",
       "      <td>0.345935</td>\n",
       "    </tr>\n",
       "    <tr>\n",
       "      <th>2</th>\n",
       "      <td>0.0</td>\n",
       "      <td>0.161963</td>\n",
       "    </tr>\n",
       "    <tr>\n",
       "      <th>3</th>\n",
       "      <td>0.0</td>\n",
       "      <td>0.529907</td>\n",
       "    </tr>\n",
       "    <tr>\n",
       "      <th>4</th>\n",
       "      <td>1.0</td>\n",
       "      <td>0.345935</td>\n",
       "    </tr>\n",
       "    <tr>\n",
       "      <th>...</th>\n",
       "      <td>...</td>\n",
       "      <td>...</td>\n",
       "    </tr>\n",
       "    <tr>\n",
       "      <th>21203</th>\n",
       "      <td>0.0</td>\n",
       "      <td>0.345935</td>\n",
       "    </tr>\n",
       "    <tr>\n",
       "      <th>21204</th>\n",
       "      <td>1.0</td>\n",
       "      <td>0.713879</td>\n",
       "    </tr>\n",
       "    <tr>\n",
       "      <th>21205</th>\n",
       "      <td>0.0</td>\n",
       "      <td>0.161963</td>\n",
       "    </tr>\n",
       "    <tr>\n",
       "      <th>21206</th>\n",
       "      <td>0.0</td>\n",
       "      <td>0.529907</td>\n",
       "    </tr>\n",
       "    <tr>\n",
       "      <th>21207</th>\n",
       "      <td>0.0</td>\n",
       "      <td>0.161963</td>\n",
       "    </tr>\n",
       "  </tbody>\n",
       "</table>\n",
       "<p>21208 rows × 2 columns</p>\n",
       "</div>"
      ],
      "text/plain": [
       "       true      pred\n",
       "0       0.0  0.713879\n",
       "1       0.0  0.345935\n",
       "2       0.0  0.161963\n",
       "3       0.0  0.529907\n",
       "4       1.0  0.345935\n",
       "...     ...       ...\n",
       "21203   0.0  0.345935\n",
       "21204   1.0  0.713879\n",
       "21205   0.0  0.161963\n",
       "21206   0.0  0.529907\n",
       "21207   0.0  0.161963\n",
       "\n",
       "[21208 rows x 2 columns]"
      ]
     },
     "execution_count": 9,
     "metadata": {},
     "output_type": "execute_result"
    }
   ],
   "source": [
    "y_pred = model.predict(X_test)\n",
    "pd.DataFrame({'true':y_test,'pred':y_pred})"
   ]
  },
  {
   "cell_type": "code",
   "execution_count": 10,
   "id": "38dbfbb1",
   "metadata": {},
   "outputs": [
    {
     "name": "stdout",
     "output_type": "stream",
     "text": [
      "                            OLS Regression Results                            \n",
      "==============================================================================\n",
      "Dep. Variable:                      y   R-squared:                       0.168\n",
      "Model:                            OLS   Adj. R-squared:                  0.168\n",
      "Method:                 Least Squares   F-statistic:                     9989.\n",
      "Date:                Mon, 12 May 2025   Prob (F-statistic):               0.00\n",
      "Time:                        21:19:57   Log-Likelihood:                -31366.\n",
      "No. Observations:               49484   AIC:                         6.274e+04\n",
      "Df Residuals:                   49482   BIC:                         6.275e+04\n",
      "Df Model:                           1                                         \n",
      "Covariance Type:            nonrobust                                         \n",
      "==============================================================================\n",
      "                 coef    std err          t      P>|t|      [0.025      0.975]\n",
      "------------------------------------------------------------------------------\n",
      "intercept     -0.0220      0.006     -3.924      0.000      -0.033      -0.011\n",
      "GenHlth        0.1840      0.002     99.943      0.000       0.180       0.188\n",
      "==============================================================================\n",
      "Omnibus:                   485800.120   Durbin-Watson:                   2.001\n",
      "Prob(Omnibus):                  0.000   Jarque-Bera (JB):             3609.269\n",
      "Skew:                          -0.024   Prob(JB):                         0.00\n",
      "Kurtosis:                       1.678   Cond. No.                         9.12\n",
      "==============================================================================\n",
      "\n",
      "Notes:\n",
      "[1] Standard Errors assume that the covariance matrix of the errors is correctly specified.\n"
     ]
    }
   ],
   "source": [
    "MSE = mean_squared_error(y_test, y_pred)\n",
    "RMSE_one_feature = math.sqrt(MSE)\n",
    "RMSE_one_feature\n",
    "model.summary()"
   ]
  },
  {
   "cell_type": "code",
   "execution_count": 11,
   "id": "9f16fac2",
   "metadata": {},
   "outputs": [
    {
     "data": {
      "text/plain": [
       "0.45609082891829916"
      ]
     },
     "execution_count": 11,
     "metadata": {},
     "output_type": "execute_result"
    }
   ],
   "source": [
    "\n",
    "k_fold = KFold(n_splits=5, shuffle=True, random_state=3)\n",
    "\n",
    "scores = cross_val_score(AndreaLinearRegression(),\n",
    "                         X_train, y_train, cv=k_fold,\n",
    "                         scoring='neg_mean_squared_error')\n",
    "\n",
    "rmse = math.sqrt(mean(-scores))\n",
    "rmse"
   ]
  },
  {
   "cell_type": "code",
   "execution_count": 12,
   "id": "1f6a1323",
   "metadata": {},
   "outputs": [
    {
     "name": "stdout",
     "output_type": "stream",
     "text": [
      "                            OLS Regression Results                            \n",
      "==============================================================================\n",
      "Dep. Variable:                      y   R-squared:                       0.312\n",
      "Model:                            OLS   Adj. R-squared:                  0.312\n",
      "Method:                 Least Squares   F-statistic:                     1070.\n",
      "Date:                Mon, 12 May 2025   Prob (F-statistic):               0.00\n",
      "Time:                        21:19:58   Log-Likelihood:                -26651.\n",
      "No. Observations:               49484   AIC:                         5.335e+04\n",
      "Df Residuals:                   49462   BIC:                         5.354e+04\n",
      "Df Model:                          21                                         \n",
      "Covariance Type:            nonrobust                                         \n",
      "========================================================================================\n",
      "                           coef    std err          t      P>|t|      [0.025      0.975]\n",
      "----------------------------------------------------------------------------------------\n",
      "intercept               -1.6850      0.038    -44.847      0.000      -1.759      -1.611\n",
      "HighBP                   0.1514      0.004     34.513      0.000       0.143       0.160\n",
      "HighChol                 0.1070      0.004     26.323      0.000       0.099       0.115\n",
      "CholCheck                0.1680      0.012     13.855      0.000       0.144       0.192\n",
      "Smoker                  -0.0032      0.004     -0.813      0.416      -0.011       0.004\n",
      "Stroke                   0.0181      0.008      2.252      0.024       0.002       0.034\n",
      "HeartDiseaseorAttack     0.0562      0.006      9.804      0.000       0.045       0.067\n",
      "PhysActivity            -0.0060      0.004     -1.351      0.177      -0.015       0.003\n",
      "Fruits                  -0.0060      0.004     -1.504      0.133      -0.014       0.002\n",
      "Veggies                 -0.0103      0.005     -2.152      0.031      -0.020      -0.001\n",
      "HvyAlcoholConsump       -0.1151      0.009    -12.481      0.000      -0.133      -0.097\n",
      "AnyHealthcare            0.0158      0.010      1.655      0.098      -0.003       0.034\n",
      "NoDocbcCost             -0.0011      0.007     -0.160      0.873      -0.014       0.012\n",
      "GenHlth                  0.1006      0.002     43.409      0.000       0.096       0.105\n",
      "DiffWalk                 0.0233      0.005      4.301      0.000       0.013       0.034\n",
      "Sex                      0.0422      0.004     10.768      0.000       0.034       0.050\n",
      "Age                      0.0244      0.001     32.088      0.000       0.023       0.026\n",
      "Education               -0.0046      0.002     -2.200      0.028      -0.009      -0.001\n",
      "Income                  -0.0119      0.001    -11.187      0.000      -0.014      -0.010\n",
      "log_BMI                  0.4294      0.010     44.717      0.000       0.411       0.448\n",
      "log_PhysHlth            -0.0070      0.002     -3.653      0.000      -0.011      -0.003\n",
      "log_MentHlth            -0.0102      0.002     -5.448      0.000      -0.014      -0.007\n",
      "==============================================================================\n",
      "Omnibus:                     5613.897   Durbin-Watson:                   2.012\n",
      "Prob(Omnibus):                  0.000   Jarque-Bera (JB):             1714.723\n",
      "Skew:                          -0.162   Prob(JB):                         0.00\n",
      "Kurtosis:                       2.148   Cond. No.                         264.\n",
      "==============================================================================\n",
      "\n",
      "Notes:\n",
      "[1] Standard Errors assume that the covariance matrix of the errors is correctly specified.\n"
     ]
    }
   ],
   "source": [
    "data = data.drop(columns=['BMI', 'PhysHlth', 'MentHlth'])\n",
    "data_train, data_test = train_test_split(data, test_size=0.3)\n",
    "\n",
    "# Prepare the training data for all features\n",
    "X_train_full = data_train.drop(columns=['Diabetes_binary']).values\n",
    "y_train_full = data_train['Diabetes_binary'].values\n",
    "column_names = data_train.drop(columns=['Diabetes_binary']).columns.tolist()\n",
    "\n",
    "# Train the model with all features\n",
    "model_full = AndreaLinearRegression()\n",
    "model_full.fit(X_train_full, y_train_full, column_names=column_names)\n",
    "\n",
    "# Model summary\n",
    "model_full.summary()"
   ]
  },
  {
   "cell_type": "code",
   "execution_count": 14,
   "id": "4670316a",
   "metadata": {},
   "outputs": [
    {
     "data": {
      "text/plain": [
       "0.4148332047916938"
      ]
     },
     "execution_count": 14,
     "metadata": {},
     "output_type": "execute_result"
    }
   ],
   "source": [
    "# Refaire la validation croisée\n",
    "new_scores = cross_val_score(AndreaLinearRegression(),\n",
    "                             X_train_full, y_train_full, cv=k_fold,\n",
    "                             scoring='neg_mean_squared_error')\n",
    "\n",
    "new_rmse = math.sqrt(mean(-new_scores))\n",
    "new_rmse"
   ]
  }
 ],
 "metadata": {
  "kernelspec": {
   "display_name": "base",
   "language": "python",
   "name": "python3"
  },
  "language_info": {
   "codemirror_mode": {
    "name": "ipython",
    "version": 3
   },
   "file_extension": ".py",
   "mimetype": "text/x-python",
   "name": "python",
   "nbconvert_exporter": "python",
   "pygments_lexer": "ipython3",
   "version": "3.12.2"
  }
 },
 "nbformat": 4,
 "nbformat_minor": 5
}
